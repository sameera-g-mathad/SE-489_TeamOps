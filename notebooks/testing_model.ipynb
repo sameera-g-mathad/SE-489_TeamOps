{
 "cells": [
  {
   "cell_type": "code",
   "execution_count": 1,
   "id": "cc1129aa",
   "metadata": {},
   "outputs": [
    {
     "name": "stderr",
     "output_type": "stream",
     "text": [
      "/Users/sameergururajmathad/se-489/team_ops/venv/lib/python3.11/site-packages/tqdm/auto.py:21: TqdmWarning: IProgress not found. Please update jupyter and ipywidgets. See https://ipywidgets.readthedocs.io/en/stable/user_install.html\n",
      "  from .autonotebook import tqdm as notebook_tqdm\n"
     ]
    }
   ],
   "source": [
    "from team_ops import Model"
   ]
  },
  {
   "cell_type": "code",
   "execution_count": 2,
   "id": "7507ccc6",
   "metadata": {},
   "outputs": [
    {
     "name": "stderr",
     "output_type": "stream",
     "text": [
      "2025-05-08 13:01:11,385 - INFO - Loading config file from : conf/config.yaml.\n",
      "2025-05-08 13:01:11,386 - INFO - Loading tokenizer: distilbert/distilbert-base-uncased\n",
      "2025-05-08 13:01:11,492 - INFO - DistilBertTokenizerFast loaded succesfully.\n",
      "2025-05-08 13:01:11,493 - INFO - Loading dataset from /Users/sameergururajmathad/se-489/team_ops/data/processed/processed_dataset.csv\n",
      "2025-05-08 13:01:11,803 - INFO - Data loaded succesfully.\n"
     ]
    }
   ],
   "source": [
    "model = Model()"
   ]
  },
  {
   "cell_type": "code",
   "execution_count": 3,
   "id": "538e2dd0",
   "metadata": {},
   "outputs": [
    {
     "name": "stdout",
     "output_type": "stream",
     "text": [
      "                          text            label\n",
      "0  [input_ids, attention_mask]  quantum physics\n",
      "1  [input_ids, attention_mask]  quantum physics\n",
      "2  [input_ids, attention_mask]  quantum physics\n",
      "3  [input_ids, attention_mask]  quantum physics\n",
      "4  [input_ids, attention_mask]  quantum physics\n"
     ]
    }
   ],
   "source": [
    "model.tokenize()"
   ]
  },
  {
   "cell_type": "code",
   "execution_count": 4,
   "id": "cd7bb4ec",
   "metadata": {},
   "outputs": [
    {
     "data": {
      "text/plain": [
       "{'input_ids': [101, 1996, 3130, 5173, 23463, 9593, 2433, 5387, 1010, 2029, 2003, 3495, 3141, 2000, 1037, 11658, 4668, 2892, 2930, 1010, 2003, 2109, 2000, 17908, 1996, 21274, 17501, 1997, 6389, 23463, 26383, 2015, 2007, 1037, 9732, 2594, 9593, 4539, 1012, 1996, 23463, 9593, 2433, 5387, 2003, 5228, 1999, 1037, 10562, 18970, 3978, 1998, 7528, 1999, 1037, 13523, 20470, 3642, 2008, 15973, 2135, 16157, 2015, 2009, 2478, 16452, 19293, 17718, 8609, 5397, 1012, 1996, 3463, 1997, 2023, 3642, 2265, 1996, 3747, 1997, 8386, 1999, 1996, 26383, 19934, 1010, 4097, 13615, 2846, 1010, 1998, 17501, 6466, 2006, 11658, 4668, 2892, 5433, 1998, 1996, 9792, 5387, 1010, 2029, 5761, 1996, 4254, 1997, 10449, 13943, 16108, 11071, 1012, 1996, 3728, 4081, 3313, 5259, 3466, 2008, 6115, 2005, 1037, 2512, 1011, 5717, 3466, 1999, 1996, 2830, 3257, 2005, 6389, 26383, 10266, 2003, 15973, 2135, 4484, 1012, 2633, 1010, 2009, 2003, 3491, 2008, 11658, 4668, 2892, 5433, 2024, 6551, 26986, 2043, 1996, 4097, 13615, 2846, 1998, 26383, 19934, 2024, 2716, 2485, 2000, 1996, 4094, 1997, 2019, 13787, 1012, 6388, 16852, 1998, 5097, 2024, 4780, 6936, 1010, 2164, 8559, 2592, 1010, 1999, 2029, 1996, 17501, 1997, 6389, 26383, 2015, 2006, 9593, 7889, 2064, 2022, 2109, 2000, 4651, 2592, 2090, 2422, 1998, 3043, 1012, 102], 'attention_mask': [1, 1, 1, 1, 1, 1, 1, 1, 1, 1, 1, 1, 1, 1, 1, 1, 1, 1, 1, 1, 1, 1, 1, 1, 1, 1, 1, 1, 1, 1, 1, 1, 1, 1, 1, 1, 1, 1, 1, 1, 1, 1, 1, 1, 1, 1, 1, 1, 1, 1, 1, 1, 1, 1, 1, 1, 1, 1, 1, 1, 1, 1, 1, 1, 1, 1, 1, 1, 1, 1, 1, 1, 1, 1, 1, 1, 1, 1, 1, 1, 1, 1, 1, 1, 1, 1, 1, 1, 1, 1, 1, 1, 1, 1, 1, 1, 1, 1, 1, 1, 1, 1, 1, 1, 1, 1, 1, 1, 1, 1, 1, 1, 1, 1, 1, 1, 1, 1, 1, 1, 1, 1, 1, 1, 1, 1, 1, 1, 1, 1, 1, 1, 1, 1, 1, 1, 1, 1, 1, 1, 1, 1, 1, 1, 1, 1, 1, 1, 1, 1, 1, 1, 1, 1, 1, 1, 1, 1, 1, 1, 1, 1, 1, 1, 1, 1, 1, 1, 1, 1, 1, 1, 1, 1, 1, 1, 1, 1, 1, 1, 1, 1, 1, 1, 1, 1, 1, 1, 1, 1, 1, 1, 1, 1, 1, 1, 1, 1, 1, 1, 1, 1, 1, 1, 1, 1]}"
      ]
     },
     "execution_count": 4,
     "metadata": {},
     "output_type": "execute_result"
    }
   ],
   "source": [
    "model._data[\"text\"].values[0]"
   ]
  },
  {
   "cell_type": "code",
   "execution_count": null,
   "id": "b406eb62",
   "metadata": {},
   "outputs": [],
   "source": []
  }
 ],
 "metadata": {
  "kernelspec": {
   "display_name": "venv",
   "language": "python",
   "name": "python3"
  },
  "language_info": {
   "codemirror_mode": {
    "name": "ipython",
    "version": 3
   },
   "file_extension": ".py",
   "mimetype": "text/x-python",
   "name": "python",
   "nbconvert_exporter": "python",
   "pygments_lexer": "ipython3",
   "version": "3.11.5"
  }
 },
 "nbformat": 4,
 "nbformat_minor": 5
}
