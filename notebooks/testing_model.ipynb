{
 "cells": [
  {
   "cell_type": "code",
   "execution_count": null,
   "id": "cc1129aa",
   "metadata": {},
   "outputs": [],
   "source": [
    "from team_ops import Model"
   ]
  },
  {
   "cell_type": "code",
   "execution_count": null,
   "id": "7507ccc6",
   "metadata": {},
   "outputs": [],
   "source": [
    "model = Model()"
   ]
  },
  {
   "cell_type": "code",
   "execution_count": null,
   "id": "cd7bb4ec",
   "metadata": {},
   "outputs": [],
   "source": [
    "model._data[\"text\"].values[0]"
   ]
  },
  {
   "cell_type": "code",
   "execution_count": null,
   "id": "b406eb62",
   "metadata": {},
   "outputs": [],
   "source": [
    "model.make_data()"
   ]
  },
  {
   "cell_type": "code",
   "execution_count": null,
   "id": "991c2765",
   "metadata": {},
   "outputs": [],
   "source": [
    "model._dataset"
   ]
  },
  {
   "cell_type": "code",
   "execution_count": null,
   "id": "7952c6b2",
   "metadata": {},
   "outputs": [],
   "source": [
    "model.train()"
   ]
  },
  {
   "cell_type": "code",
   "execution_count": null,
   "id": "ba97f1d2",
   "metadata": {},
   "outputs": [],
   "source": [
    "model.predict(\" Blood transfusion is one of the most crucial and commonly administered therapeutics worldwide. The need for more accurate and efficient ways to manage blood demand and supply is an increasing concern. Building a technology-based, robust blood demand and supply chain that can achieve the goals of reducing ordering frequency, inventory level, wastage and shortage, while maintaining the safety of blood usage, is essential in modern healthcare systems. In this study, we summarize the key challenges in current demand and supply management for red blood cells (RBCs). We combine ideas from statistical time series modeling, machine learning, and operations research in developing an ordering decision strategy for RBCs, through integrating a hybrid demand forecasting model using clinical predictors and a data-driven multi-period inventory problem considering inventory and reorder constraints. We have applied the integrated ordering strategy to the blood inventory management system in Hamilton, Ontario using a large clinical database from 2008 to 2018. The proposed hybrid demand forecasting model provides robust and accurate predictions, and identifies important clinical predictors for short-term RBC demand forecasting. Compared with the actual historical data, our integrated ordering strategy reduces the inventory level by 40% and decreases the ordering frequency by 60%, with low incidence of shortages and wastage due to expiration. If implemented successfully, our proposed strategy can achieve significant cost savings for healthcare systems and blood suppliers. The proposed ordering strategy is generalizable to other blood products or even other perishable products. \"\n",
    "              )"
   ]
  },
  {
   "cell_type": "code",
   "execution_count": null,
   "id": "f7afff5b",
   "metadata": {},
   "outputs": [],
   "source": [
    "model.predict(\"  We present an independent discovery and detailed characterisation of K2-280b, a transiting low density warm sub-Saturn in a 19.9-day moderately eccentric orbit (e = 0.35_{-0.04}^{+0.05}) from K2 campaign 7. A joint analysis of high precision HARPS, HARPS-N, and FIES radial velocity measurements and K2 photometric data indicates that K2-280b has a radius of R_b = 7.50 +/- 0.44 R_Earth and a mass of M_b = 37.1 +/- 5.6 M_Earth, yielding a mean density of 0.48_{-0.10}^{+0.13} g/cm^3. The host star is a mildly evolved G7 star with an effective temperature of T_{eff} = 5500 +/- 100 K, a surface gravity of log(g) = 4.21 +/- 0.05 (cgs), and an iron abundance of [Fe/H] = 0.33 +/- 0.08 dex, and with an inferred mass of M_star = 1.03 +/- 0.03 M_sun and a radius of R_star = 1.28 +/- 0.07 R_sun. We discuss the importance of K2-280b for testing formation scenarios of sub-Saturn planets and the current sample of this intriguing group of planets that are absent in the Solar System. \"\n",
    "              )"
   ]
  }
 ],
 "metadata": {
  "kernelspec": {
   "display_name": "venv",
   "language": "python",
   "name": "python3"
  },
  "language_info": {
   "codemirror_mode": {
    "name": "ipython",
    "version": 3
   },
   "file_extension": ".py",
   "mimetype": "text/x-python",
   "name": "python",
   "nbconvert_exporter": "python",
   "pygments_lexer": "ipython3",
   "version": "3.12.3"
  }
 },
 "nbformat": 4,
 "nbformat_minor": 5
}
