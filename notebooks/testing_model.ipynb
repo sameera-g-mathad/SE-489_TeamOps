{
 "cells": [
  {
   "cell_type": "code",
   "execution_count": 1,
   "id": "cc1129aa",
   "metadata": {},
   "outputs": [
    {
     "name": "stderr",
     "output_type": "stream",
     "text": [
      "/home/smathad/se-489/venv/lib/python3.12/site-packages/tqdm/auto.py:21: TqdmWarning: IProgress not found. Please update jupyter and ipywidgets. See https://ipywidgets.readthedocs.io/en/stable/user_install.html\n",
      "  from .autonotebook import tqdm as notebook_tqdm\n"
     ]
    }
   ],
   "source": [
    "from team_ops import Model"
   ]
  },
  {
   "cell_type": "code",
   "execution_count": 2,
   "id": "7507ccc6",
   "metadata": {},
   "outputs": [
    {
     "name": "stderr",
     "output_type": "stream",
     "text": [
      "2025-05-15 12:13:27,354 - INFO - Loading config file from : conf/config.yaml.\n",
      "2025-05-15 12:13:27,490 - INFO - Loading tokenizer: distilbert/distilbert-base-uncased\n",
      "2025-05-15 12:13:27,606 - INFO - DistilBertTokenizerFast loaded succesfully.\n",
      "2025-05-15 12:13:27,607 - INFO - Loading data collator\n",
      "2025-05-15 12:13:27,813 - INFO - Loading dataset from /home/smathad/se-489/data/processed/processed_dataset.csv\n",
      "2025-05-15 12:13:28,159 - INFO - Data loaded succesfully.\n",
      "Some weights of DistilBertForSequenceClassification were not initialized from the model checkpoint at distilbert/distilbert-base-uncased and are newly initialized: ['classifier.bias', 'classifier.weight', 'pre_classifier.bias', 'pre_classifier.weight']\n",
      "You should probably TRAIN this model on a down-stream task to be able to use it for predictions and inference.\n"
     ]
    }
   ],
   "source": [
    "model = Model()"
   ]
  },
  {
   "cell_type": "code",
   "execution_count": 3,
   "id": "cd7bb4ec",
   "metadata": {},
   "outputs": [
    {
     "data": {
      "text/plain": [
       "'  The previously derived vortex atomic form factor, which is directly related to a differential reaction cross section, is used to analyze the elastic scattering of twisted vortex photons with a hydrogenic atomic target. The vortex atomic form factor is expressed in a unified spherical basis and implemented in a MatLab code that numerically evaluates it using globally adaptive quadrature. The results of this code show the influence of variation in the photon wavelength, Rayleigh range, and scattering angle on differential reaction cross sections and the twist factor, which measures the impact of introducing orbital angular momentum. The recently suggested double mirror effect that accounts for a non-zero effect in the forward direction for twisted photon interactions is numerically confirmed. Finally, it is shown that differential reaction cross sections are greatly amplified when the Rayleigh range and photon wavelength are brought close to the scale of an atom. Experimental considerations and applications are briefly discussed, including quantum information, in which the scattering of twisted photons on atomic targets can be used to transfer information between light and matter. '"
      ]
     },
     "execution_count": 3,
     "metadata": {},
     "output_type": "execute_result"
    }
   ],
   "source": [
    "model._data[\"text\"].values[0]"
   ]
  },
  {
   "cell_type": "code",
   "execution_count": 4,
   "id": "b406eb62",
   "metadata": {},
   "outputs": [
    {
     "name": "stderr",
     "output_type": "stream",
     "text": [
      "2025-05-15 12:13:28,369 - INFO - Splitting dataset into train and test sets.\n",
      "2025-05-15 12:13:28,372 - INFO - Creating test set.\n",
      "2025-05-15 12:13:28,753 - INFO - Dataset created successfully.\n",
      "2025-05-15 12:13:28,762 - INFO - Tokenizing dataset.\n",
      "Map: 100%|██████████| 40000/40000 [00:06<00:00, 6642.09 examples/s]\n",
      "Map: 100%|██████████| 10000/10000 [00:01<00:00, 6927.17 examples/s]\n"
     ]
    }
   ],
   "source": [
    "model.make_data()"
   ]
  },
  {
   "cell_type": "code",
   "execution_count": 5,
   "id": "991c2765",
   "metadata": {},
   "outputs": [
    {
     "data": {
      "text/plain": [
       "DatasetDict({\n",
       "    train: Dataset({\n",
       "        features: ['text', 'label', '__index_level_0__', 'input_ids', 'attention_mask'],\n",
       "        num_rows: 40000\n",
       "    })\n",
       "    test: Dataset({\n",
       "        features: ['text', 'label', '__index_level_0__', 'input_ids', 'attention_mask'],\n",
       "        num_rows: 10000\n",
       "    })\n",
       "})"
      ]
     },
     "execution_count": 5,
     "metadata": {},
     "output_type": "execute_result"
    }
   ],
   "source": [
    "model._dataset"
   ]
  },
  {
   "cell_type": "code",
   "execution_count": 6,
   "id": "7952c6b2",
   "metadata": {},
   "outputs": [
    {
     "name": "stderr",
     "output_type": "stream",
     "text": [
      "2025-05-15 12:13:38,684 - INFO - Model already exists. Skipping training.\n",
      "2025-05-15 12:13:38,684 - INFO - Loading model from distilbert/distilbert-base-uncased\n",
      "2025-05-15 12:13:39,329 - INFO - DistilBertForSequenceClassification loaded succesfully.\n"
     ]
    }
   ],
   "source": [
    "model.train()"
   ]
  },
  {
   "cell_type": "code",
   "execution_count": 7,
   "id": "ba97f1d2",
   "metadata": {},
   "outputs": [
    {
     "name": "stderr",
     "output_type": "stream",
     "text": [
      "2025-05-15 12:13:39,335 - INFO - Making predictions.\n"
     ]
    },
    {
     "data": {
      "text/plain": [
       "'statistics'"
      ]
     },
     "execution_count": 7,
     "metadata": {},
     "output_type": "execute_result"
    }
   ],
   "source": [
    "model.predict(\" Blood transfusion is one of the most crucial and commonly administered therapeutics worldwide. The need for more accurate and efficient ways to manage blood demand and supply is an increasing concern. Building a technology-based, robust blood demand and supply chain that can achieve the goals of reducing ordering frequency, inventory level, wastage and shortage, while maintaining the safety of blood usage, is essential in modern healthcare systems. In this study, we summarize the key challenges in current demand and supply management for red blood cells (RBCs). We combine ideas from statistical time series modeling, machine learning, and operations research in developing an ordering decision strategy for RBCs, through integrating a hybrid demand forecasting model using clinical predictors and a data-driven multi-period inventory problem considering inventory and reorder constraints. We have applied the integrated ordering strategy to the blood inventory management system in Hamilton, Ontario using a large clinical database from 2008 to 2018. The proposed hybrid demand forecasting model provides robust and accurate predictions, and identifies important clinical predictors for short-term RBC demand forecasting. Compared with the actual historical data, our integrated ordering strategy reduces the inventory level by 40% and decreases the ordering frequency by 60%, with low incidence of shortages and wastage due to expiration. If implemented successfully, our proposed strategy can achieve significant cost savings for healthcare systems and blood suppliers. The proposed ordering strategy is generalizable to other blood products or even other perishable products. \"\n",
    "              )"
   ]
  },
  {
   "cell_type": "code",
   "execution_count": 8,
   "id": "f7afff5b",
   "metadata": {},
   "outputs": [
    {
     "name": "stderr",
     "output_type": "stream",
     "text": [
      "2025-05-15 12:13:42,240 - INFO - Making predictions.\n"
     ]
    },
    {
     "data": {
      "text/plain": [
       "'astrophysics'"
      ]
     },
     "execution_count": 8,
     "metadata": {},
     "output_type": "execute_result"
    }
   ],
   "source": [
    "model.predict(\"  We present an independent discovery and detailed characterisation of K2-280b, a transiting low density warm sub-Saturn in a 19.9-day moderately eccentric orbit (e = 0.35_{-0.04}^{+0.05}) from K2 campaign 7. A joint analysis of high precision HARPS, HARPS-N, and FIES radial velocity measurements and K2 photometric data indicates that K2-280b has a radius of R_b = 7.50 +/- 0.44 R_Earth and a mass of M_b = 37.1 +/- 5.6 M_Earth, yielding a mean density of 0.48_{-0.10}^{+0.13} g/cm^3. The host star is a mildly evolved G7 star with an effective temperature of T_{eff} = 5500 +/- 100 K, a surface gravity of log(g) = 4.21 +/- 0.05 (cgs), and an iron abundance of [Fe/H] = 0.33 +/- 0.08 dex, and with an inferred mass of M_star = 1.03 +/- 0.03 M_sun and a radius of R_star = 1.28 +/- 0.07 R_sun. We discuss the importance of K2-280b for testing formation scenarios of sub-Saturn planets and the current sample of this intriguing group of planets that are absent in the Solar System. \"\n",
    "              )"
   ]
  }
 ],
 "metadata": {
  "kernelspec": {
   "display_name": "venv",
   "language": "python",
   "name": "python3"
  },
  "language_info": {
   "codemirror_mode": {
    "name": "ipython",
    "version": 3
   },
   "file_extension": ".py",
   "mimetype": "text/x-python",
   "name": "python",
   "nbconvert_exporter": "python",
   "pygments_lexer": "ipython3",
   "version": "3.12.3"
  }
 },
 "nbformat": 4,
 "nbformat_minor": 5
}
