{
 "cells": [
  {
   "cell_type": "code",
   "execution_count": 1,
   "id": "cc1129aa",
   "metadata": {},
   "outputs": [
    {
     "name": "stderr",
     "output_type": "stream",
     "text": [
      "/home/smathad/se-489/venv/lib/python3.12/site-packages/tqdm/auto.py:21: TqdmWarning: IProgress not found. Please update jupyter and ipywidgets. See https://ipywidgets.readthedocs.io/en/stable/user_install.html\n",
      "  from .autonotebook import tqdm as notebook_tqdm\n"
     ]
    }
   ],
   "source": [
    "from team_ops import Model"
   ]
  },
  {
   "cell_type": "code",
   "execution_count": 2,
   "id": "7507ccc6",
   "metadata": {},
   "outputs": [
    {
     "data": {
      "text/html": [
       "<pre style=\"white-space:pre;overflow-x:auto;line-height:normal;font-family:Menlo,'DejaVu Sans Mono',consolas,'Courier New',monospace\"><span style=\"color: #7fbfbf; text-decoration-color: #7fbfbf\">[05/22/25 11:23:54] </span><span style=\"color: #000080; text-decoration-color: #000080\">INFO    </span> Loading config file from: conf/config.yaml                          <a href=\"file:///home/smathad/se-489/venv/lib/python3.12/site-packages/team_ops/hydra_config.py\" target=\"_blank\"><span style=\"color: #7f7f7f; text-decoration-color: #7f7f7f\">hydra_config.py</span></a><span style=\"color: #7f7f7f; text-decoration-color: #7f7f7f\">:</span><a href=\"file:///home/smathad/se-489/venv/lib/python3.12/site-packages/team_ops/hydra_config.py#33\" target=\"_blank\"><span style=\"color: #7f7f7f; text-decoration-color: #7f7f7f\">33</span></a>\n",
       "</pre>\n"
      ],
      "text/plain": [
       "\u001b[2;36m[05/22/25 11:23:54]\u001b[0m\u001b[2;36m \u001b[0m\u001b[34mINFO    \u001b[0m Loading config file from: conf/config.yaml                          \u001b]8;id=901481;file:///home/smathad/se-489/venv/lib/python3.12/site-packages/team_ops/hydra_config.py\u001b\\\u001b[2mhydra_config.py\u001b[0m\u001b]8;;\u001b\\\u001b[2m:\u001b[0m\u001b]8;id=362569;file:///home/smathad/se-489/venv/lib/python3.12/site-packages/team_ops/hydra_config.py#33\u001b\\\u001b[2m33\u001b[0m\u001b]8;;\u001b\\\n"
      ]
     },
     "metadata": {},
     "output_type": "display_data"
    },
    {
     "data": {
      "text/html": [
       "<pre style=\"white-space:pre;overflow-x:auto;line-height:normal;font-family:Menlo,'DejaVu Sans Mono',consolas,'Courier New',monospace\"><span style=\"color: #7fbfbf; text-decoration-color: #7fbfbf\">                    </span><span style=\"color: #008000; text-decoration-color: #008000\">DEBUG   </span> Setting JobRuntime:<span style=\"color: #808000; text-decoration-color: #808000\">name</span>=<span style=\"color: #800080; text-decoration-color: #800080\">UNKNOWN_NAME</span>                                      <a href=\"file:///home/smathad/se-489/venv/lib/python3.12/site-packages/hydra/core/utils.py\" target=\"_blank\"><span style=\"color: #7f7f7f; text-decoration-color: #7f7f7f\">utils.py</span></a><span style=\"color: #7f7f7f; text-decoration-color: #7f7f7f\">:</span><a href=\"file:///home/smathad/se-489/venv/lib/python3.12/site-packages/hydra/core/utils.py#279\" target=\"_blank\"><span style=\"color: #7f7f7f; text-decoration-color: #7f7f7f\">279</span></a>\n",
       "</pre>\n"
      ],
      "text/plain": [
       "\u001b[2;36m                   \u001b[0m\u001b[2;36m \u001b[0m\u001b[32mDEBUG   \u001b[0m Setting JobRuntime:\u001b[33mname\u001b[0m=\u001b[35mUNKNOWN_NAME\u001b[0m                                      \u001b]8;id=906541;file:///home/smathad/se-489/venv/lib/python3.12/site-packages/hydra/core/utils.py\u001b\\\u001b[2mutils.py\u001b[0m\u001b]8;;\u001b\\\u001b[2m:\u001b[0m\u001b]8;id=26632;file:///home/smathad/se-489/venv/lib/python3.12/site-packages/hydra/core/utils.py#279\u001b\\\u001b[2m279\u001b[0m\u001b]8;;\u001b\\\n"
      ]
     },
     "metadata": {},
     "output_type": "display_data"
    },
    {
     "data": {
      "text/html": [
       "<pre style=\"white-space:pre;overflow-x:auto;line-height:normal;font-family:Menlo,'DejaVu Sans Mono',consolas,'Courier New',monospace\"><span style=\"color: #7fbfbf; text-decoration-color: #7fbfbf\">                    </span><span style=\"color: #008000; text-decoration-color: #008000\">DEBUG   </span> Setting JobRuntime:<span style=\"color: #808000; text-decoration-color: #808000\">name</span>=<span style=\"color: #800080; text-decoration-color: #800080\">hydra_config</span>                                      <a href=\"file:///home/smathad/se-489/venv/lib/python3.12/site-packages/hydra/core/utils.py\" target=\"_blank\"><span style=\"color: #7f7f7f; text-decoration-color: #7f7f7f\">utils.py</span></a><span style=\"color: #7f7f7f; text-decoration-color: #7f7f7f\">:</span><a href=\"file:///home/smathad/se-489/venv/lib/python3.12/site-packages/hydra/core/utils.py#279\" target=\"_blank\"><span style=\"color: #7f7f7f; text-decoration-color: #7f7f7f\">279</span></a>\n",
       "</pre>\n"
      ],
      "text/plain": [
       "\u001b[2;36m                   \u001b[0m\u001b[2;36m \u001b[0m\u001b[32mDEBUG   \u001b[0m Setting JobRuntime:\u001b[33mname\u001b[0m=\u001b[35mhydra_config\u001b[0m                                      \u001b]8;id=752075;file:///home/smathad/se-489/venv/lib/python3.12/site-packages/hydra/core/utils.py\u001b\\\u001b[2mutils.py\u001b[0m\u001b]8;;\u001b\\\u001b[2m:\u001b[0m\u001b]8;id=420001;file:///home/smathad/se-489/venv/lib/python3.12/site-packages/hydra/core/utils.py#279\u001b\\\u001b[2m279\u001b[0m\u001b]8;;\u001b\\\n"
      ]
     },
     "metadata": {},
     "output_type": "display_data"
    },
    {
     "data": {
      "text/html": [
       "<pre style=\"white-space:pre;overflow-x:auto;line-height:normal;font-family:Menlo,'DejaVu Sans Mono',consolas,'Courier New',monospace\"><span style=\"color: #7fbfbf; text-decoration-color: #7fbfbf\">                    </span><span style=\"color: #000080; text-decoration-color: #000080\">INFO    </span> Loading tokenizer: distilbert/distilbert-base-uncased                <a href=\"file:///home/smathad/se-489/venv/lib/python3.12/site-packages/team_ops/train_model.py\" target=\"_blank\"><span style=\"color: #7f7f7f; text-decoration-color: #7f7f7f\">train_model.py</span></a><span style=\"color: #7f7f7f; text-decoration-color: #7f7f7f\">:</span><a href=\"file:///home/smathad/se-489/venv/lib/python3.12/site-packages/team_ops/train_model.py#36\" target=\"_blank\"><span style=\"color: #7f7f7f; text-decoration-color: #7f7f7f\">36</span></a>\n",
       "</pre>\n"
      ],
      "text/plain": [
       "\u001b[2;36m                   \u001b[0m\u001b[2;36m \u001b[0m\u001b[34mINFO    \u001b[0m Loading tokenizer: distilbert/distilbert-base-uncased                \u001b]8;id=604673;file:///home/smathad/se-489/venv/lib/python3.12/site-packages/team_ops/train_model.py\u001b\\\u001b[2mtrain_model.py\u001b[0m\u001b]8;;\u001b\\\u001b[2m:\u001b[0m\u001b]8;id=779520;file:///home/smathad/se-489/venv/lib/python3.12/site-packages/team_ops/train_model.py#36\u001b\\\u001b[2m36\u001b[0m\u001b]8;;\u001b\\\n"
      ]
     },
     "metadata": {},
     "output_type": "display_data"
    },
    {
     "data": {
      "text/html": [
       "<pre style=\"white-space:pre;overflow-x:auto;line-height:normal;font-family:Menlo,'DejaVu Sans Mono',consolas,'Courier New',monospace\"><span style=\"color: #7fbfbf; text-decoration-color: #7fbfbf\">                    </span><span style=\"color: #008000; text-decoration-color: #008000\">DEBUG   </span> Starting new HTTPS connection <span style=\"font-weight: bold\">(</span><span style=\"color: #008080; text-decoration-color: #008080; font-weight: bold\">1</span><span style=\"font-weight: bold\">)</span>: huggingface.co:<span style=\"color: #008080; text-decoration-color: #008080; font-weight: bold\">443</span>           <a href=\"file:///home/smathad/se-489/venv/lib/python3.12/site-packages/urllib3/connectionpool.py\" target=\"_blank\"><span style=\"color: #7f7f7f; text-decoration-color: #7f7f7f\">connectionpool.py</span></a><span style=\"color: #7f7f7f; text-decoration-color: #7f7f7f\">:</span><a href=\"file:///home/smathad/se-489/venv/lib/python3.12/site-packages/urllib3/connectionpool.py#1049\" target=\"_blank\"><span style=\"color: #7f7f7f; text-decoration-color: #7f7f7f\">1049</span></a>\n",
       "</pre>\n"
      ],
      "text/plain": [
       "\u001b[2;36m                   \u001b[0m\u001b[2;36m \u001b[0m\u001b[32mDEBUG   \u001b[0m Starting new HTTPS connection \u001b[1m(\u001b[0m\u001b[1;36m1\u001b[0m\u001b[1m)\u001b[0m: huggingface.co:\u001b[1;36m443\u001b[0m           \u001b]8;id=828239;file:///home/smathad/se-489/venv/lib/python3.12/site-packages/urllib3/connectionpool.py\u001b\\\u001b[2mconnectionpool.py\u001b[0m\u001b]8;;\u001b\\\u001b[2m:\u001b[0m\u001b]8;id=531448;file:///home/smathad/se-489/venv/lib/python3.12/site-packages/urllib3/connectionpool.py#1049\u001b\\\u001b[2m1049\u001b[0m\u001b]8;;\u001b\\\n"
      ]
     },
     "metadata": {},
     "output_type": "display_data"
    },
    {
     "data": {
      "text/html": [
       "<pre style=\"white-space:pre;overflow-x:auto;line-height:normal;font-family:Menlo,'DejaVu Sans Mono',consolas,'Courier New',monospace\"><span style=\"color: #7fbfbf; text-decoration-color: #7fbfbf\">                    </span><span style=\"color: #008000; text-decoration-color: #008000\">DEBUG   </span> <span style=\"color: #0000ff; text-decoration-color: #0000ff; text-decoration: underline\">https://huggingface.co:443</span> <span style=\"color: #008000; text-decoration-color: #008000\">\"</span><span style=\"color: #808000; text-decoration-color: #808000; font-weight: bold\">HEAD</span><span style=\"color: #008000; text-decoration-color: #008000\"> </span>                                <a href=\"file:///home/smathad/se-489/venv/lib/python3.12/site-packages/urllib3/connectionpool.py\" target=\"_blank\"><span style=\"color: #7f7f7f; text-decoration-color: #7f7f7f\">connectionpool.py</span></a><span style=\"color: #7f7f7f; text-decoration-color: #7f7f7f\">:</span><a href=\"file:///home/smathad/se-489/venv/lib/python3.12/site-packages/urllib3/connectionpool.py#544\" target=\"_blank\"><span style=\"color: #7f7f7f; text-decoration-color: #7f7f7f\">544</span></a>\n",
       "<span style=\"color: #7fbfbf; text-decoration-color: #7fbfbf\">                    </span>         <span style=\"color: #008000; text-decoration-color: #008000\">/distilbert/distilbert-base-uncased/resolve/main/tokenizer_confi</span> <span style=\"color: #7f7f7f; text-decoration-color: #7f7f7f\">                     </span>\n",
       "<span style=\"color: #7fbfbf; text-decoration-color: #7fbfbf\">                    </span>         <span style=\"color: #008000; text-decoration-color: #008000\">g.json HTTP/1.1\"</span> <span style=\"color: #008080; text-decoration-color: #008080; font-weight: bold\">200</span> <span style=\"color: #008080; text-decoration-color: #008080; font-weight: bold\">0</span>                                           <span style=\"color: #7f7f7f; text-decoration-color: #7f7f7f\">                     </span>\n",
       "</pre>\n"
      ],
      "text/plain": [
       "\u001b[2;36m                   \u001b[0m\u001b[2;36m \u001b[0m\u001b[32mDEBUG   \u001b[0m \u001b[4;94mhttps://huggingface.co:443\u001b[0m \u001b[32m\"\u001b[0m\u001b[1;33mHEAD\u001b[0m\u001b[32m \u001b[0m                                \u001b]8;id=565001;file:///home/smathad/se-489/venv/lib/python3.12/site-packages/urllib3/connectionpool.py\u001b\\\u001b[2mconnectionpool.py\u001b[0m\u001b]8;;\u001b\\\u001b[2m:\u001b[0m\u001b]8;id=50135;file:///home/smathad/se-489/venv/lib/python3.12/site-packages/urllib3/connectionpool.py#544\u001b\\\u001b[2m544\u001b[0m\u001b]8;;\u001b\\\n",
       "\u001b[2;36m                    \u001b[0m         \u001b[32m/distilbert/distilbert-base-uncased/resolve/main/tokenizer_confi\u001b[0m \u001b[2m                     \u001b[0m\n",
       "\u001b[2;36m                    \u001b[0m         \u001b[32mg.json HTTP/1.1\"\u001b[0m \u001b[1;36m200\u001b[0m \u001b[1;36m0\u001b[0m                                           \u001b[2m                     \u001b[0m\n"
      ]
     },
     "metadata": {},
     "output_type": "display_data"
    },
    {
     "data": {
      "text/html": [
       "<pre style=\"white-space:pre;overflow-x:auto;line-height:normal;font-family:Menlo,'DejaVu Sans Mono',consolas,'Courier New',monospace\"><span style=\"color: #7fbfbf; text-decoration-color: #7fbfbf\">                    </span><span style=\"color: #000080; text-decoration-color: #000080\">INFO    </span> DistilBertTokenizerFast loaded succesfully.                          <a href=\"file:///home/smathad/se-489/venv/lib/python3.12/site-packages/team_ops/train_model.py\" target=\"_blank\"><span style=\"color: #7f7f7f; text-decoration-color: #7f7f7f\">train_model.py</span></a><span style=\"color: #7f7f7f; text-decoration-color: #7f7f7f\">:</span><a href=\"file:///home/smathad/se-489/venv/lib/python3.12/site-packages/team_ops/train_model.py#40\" target=\"_blank\"><span style=\"color: #7f7f7f; text-decoration-color: #7f7f7f\">40</span></a>\n",
       "</pre>\n"
      ],
      "text/plain": [
       "\u001b[2;36m                   \u001b[0m\u001b[2;36m \u001b[0m\u001b[34mINFO    \u001b[0m DistilBertTokenizerFast loaded succesfully.                          \u001b]8;id=470336;file:///home/smathad/se-489/venv/lib/python3.12/site-packages/team_ops/train_model.py\u001b\\\u001b[2mtrain_model.py\u001b[0m\u001b]8;;\u001b\\\u001b[2m:\u001b[0m\u001b]8;id=835970;file:///home/smathad/se-489/venv/lib/python3.12/site-packages/team_ops/train_model.py#40\u001b\\\u001b[2m40\u001b[0m\u001b]8;;\u001b\\\n"
      ]
     },
     "metadata": {},
     "output_type": "display_data"
    },
    {
     "data": {
      "text/html": [
       "<pre style=\"white-space:pre;overflow-x:auto;line-height:normal;font-family:Menlo,'DejaVu Sans Mono',consolas,'Courier New',monospace\"><span style=\"color: #7fbfbf; text-decoration-color: #7fbfbf\">                    </span><span style=\"color: #000080; text-decoration-color: #000080\">INFO    </span> Loading data collator                                                <a href=\"file:///home/smathad/se-489/venv/lib/python3.12/site-packages/team_ops/train_model.py\" target=\"_blank\"><span style=\"color: #7f7f7f; text-decoration-color: #7f7f7f\">train_model.py</span></a><span style=\"color: #7f7f7f; text-decoration-color: #7f7f7f\">:</span><a href=\"file:///home/smathad/se-489/venv/lib/python3.12/site-packages/team_ops/train_model.py#43\" target=\"_blank\"><span style=\"color: #7f7f7f; text-decoration-color: #7f7f7f\">43</span></a>\n",
       "</pre>\n"
      ],
      "text/plain": [
       "\u001b[2;36m                   \u001b[0m\u001b[2;36m \u001b[0m\u001b[34mINFO    \u001b[0m Loading data collator                                                \u001b]8;id=208058;file:///home/smathad/se-489/venv/lib/python3.12/site-packages/team_ops/train_model.py\u001b\\\u001b[2mtrain_model.py\u001b[0m\u001b]8;;\u001b\\\u001b[2m:\u001b[0m\u001b]8;id=490147;file:///home/smathad/se-489/venv/lib/python3.12/site-packages/team_ops/train_model.py#43\u001b\\\u001b[2m43\u001b[0m\u001b]8;;\u001b\\\n"
      ]
     },
     "metadata": {},
     "output_type": "display_data"
    },
    {
     "data": {
      "text/html": [
       "<pre style=\"white-space:pre;overflow-x:auto;line-height:normal;font-family:Menlo,'DejaVu Sans Mono',consolas,'Courier New',monospace\"><span style=\"color: #7fbfbf; text-decoration-color: #7fbfbf\">                    </span><span style=\"color: #008000; text-decoration-color: #008000\">DEBUG   </span> Starting new HTTPS connection <span style=\"font-weight: bold\">(</span><span style=\"color: #008080; text-decoration-color: #008080; font-weight: bold\">1</span><span style=\"font-weight: bold\">)</span>: s3.amazonaws.com:<span style=\"color: #008080; text-decoration-color: #008080; font-weight: bold\">443</span>         <a href=\"file:///home/smathad/se-489/venv/lib/python3.12/site-packages/urllib3/connectionpool.py\" target=\"_blank\"><span style=\"color: #7f7f7f; text-decoration-color: #7f7f7f\">connectionpool.py</span></a><span style=\"color: #7f7f7f; text-decoration-color: #7f7f7f\">:</span><a href=\"file:///home/smathad/se-489/venv/lib/python3.12/site-packages/urllib3/connectionpool.py#1049\" target=\"_blank\"><span style=\"color: #7f7f7f; text-decoration-color: #7f7f7f\">1049</span></a>\n",
       "</pre>\n"
      ],
      "text/plain": [
       "\u001b[2;36m                   \u001b[0m\u001b[2;36m \u001b[0m\u001b[32mDEBUG   \u001b[0m Starting new HTTPS connection \u001b[1m(\u001b[0m\u001b[1;36m1\u001b[0m\u001b[1m)\u001b[0m: s3.amazonaws.com:\u001b[1;36m443\u001b[0m         \u001b]8;id=756692;file:///home/smathad/se-489/venv/lib/python3.12/site-packages/urllib3/connectionpool.py\u001b\\\u001b[2mconnectionpool.py\u001b[0m\u001b]8;;\u001b\\\u001b[2m:\u001b[0m\u001b]8;id=575610;file:///home/smathad/se-489/venv/lib/python3.12/site-packages/urllib3/connectionpool.py#1049\u001b\\\u001b[2m1049\u001b[0m\u001b]8;;\u001b\\\n"
      ]
     },
     "metadata": {},
     "output_type": "display_data"
    },
    {
     "data": {
      "text/html": [
       "<pre style=\"white-space:pre;overflow-x:auto;line-height:normal;font-family:Menlo,'DejaVu Sans Mono',consolas,'Courier New',monospace\"><span style=\"color: #7fbfbf; text-decoration-color: #7fbfbf\">[05/22/25 11:23:55] </span><span style=\"color: #008000; text-decoration-color: #008000\">DEBUG   </span> <span style=\"color: #0000ff; text-decoration-color: #0000ff; text-decoration: underline\">https://s3.amazonaws.com:443</span> <span style=\"color: #008000; text-decoration-color: #008000\">\"</span><span style=\"color: #808000; text-decoration-color: #808000; font-weight: bold\">HEAD</span><span style=\"color: #008000; text-decoration-color: #008000\"> </span>                              <a href=\"file:///home/smathad/se-489/venv/lib/python3.12/site-packages/urllib3/connectionpool.py\" target=\"_blank\"><span style=\"color: #7f7f7f; text-decoration-color: #7f7f7f\">connectionpool.py</span></a><span style=\"color: #7f7f7f; text-decoration-color: #7f7f7f\">:</span><a href=\"file:///home/smathad/se-489/venv/lib/python3.12/site-packages/urllib3/connectionpool.py#544\" target=\"_blank\"><span style=\"color: #7f7f7f; text-decoration-color: #7f7f7f\">544</span></a>\n",
       "<span style=\"color: #7fbfbf; text-decoration-color: #7fbfbf\">                    </span>         <span style=\"color: #008000; text-decoration-color: #008000\">/datasets.huggingface.co/datasets/metrics/evaluate-metric/accura</span> <span style=\"color: #7f7f7f; text-decoration-color: #7f7f7f\">                     </span>\n",
       "<span style=\"color: #7fbfbf; text-decoration-color: #7fbfbf\">                    </span>         <span style=\"color: #008000; text-decoration-color: #008000\">cy/evaluate-metric/accuracy.py HTTP/1.1\"</span> <span style=\"color: #008080; text-decoration-color: #008080; font-weight: bold\">404</span> <span style=\"color: #008080; text-decoration-color: #008080; font-weight: bold\">0</span>                   <span style=\"color: #7f7f7f; text-decoration-color: #7f7f7f\">                     </span>\n",
       "</pre>\n"
      ],
      "text/plain": [
       "\u001b[2;36m[05/22/25 11:23:55]\u001b[0m\u001b[2;36m \u001b[0m\u001b[32mDEBUG   \u001b[0m \u001b[4;94mhttps://s3.amazonaws.com:443\u001b[0m \u001b[32m\"\u001b[0m\u001b[1;33mHEAD\u001b[0m\u001b[32m \u001b[0m                              \u001b]8;id=626632;file:///home/smathad/se-489/venv/lib/python3.12/site-packages/urllib3/connectionpool.py\u001b\\\u001b[2mconnectionpool.py\u001b[0m\u001b]8;;\u001b\\\u001b[2m:\u001b[0m\u001b]8;id=284685;file:///home/smathad/se-489/venv/lib/python3.12/site-packages/urllib3/connectionpool.py#544\u001b\\\u001b[2m544\u001b[0m\u001b]8;;\u001b\\\n",
       "\u001b[2;36m                    \u001b[0m         \u001b[32m/datasets.huggingface.co/datasets/metrics/evaluate-metric/accura\u001b[0m \u001b[2m                     \u001b[0m\n",
       "\u001b[2;36m                    \u001b[0m         \u001b[32mcy/evaluate-metric/accuracy.py HTTP/1.1\"\u001b[0m \u001b[1;36m404\u001b[0m \u001b[1;36m0\u001b[0m                   \u001b[2m                     \u001b[0m\n"
      ]
     },
     "metadata": {},
     "output_type": "display_data"
    },
    {
     "data": {
      "text/html": [
       "<pre style=\"white-space:pre;overflow-x:auto;line-height:normal;font-family:Menlo,'DejaVu Sans Mono',consolas,'Courier New',monospace\"><span style=\"color: #7fbfbf; text-decoration-color: #7fbfbf\">                    </span><span style=\"color: #008000; text-decoration-color: #008000\">DEBUG   </span> Starting new HTTPS connection <span style=\"font-weight: bold\">(</span><span style=\"color: #008080; text-decoration-color: #008080; font-weight: bold\">1</span><span style=\"font-weight: bold\">)</span>: huggingface.co:<span style=\"color: #008080; text-decoration-color: #008080; font-weight: bold\">443</span>           <a href=\"file:///home/smathad/se-489/venv/lib/python3.12/site-packages/urllib3/connectionpool.py\" target=\"_blank\"><span style=\"color: #7f7f7f; text-decoration-color: #7f7f7f\">connectionpool.py</span></a><span style=\"color: #7f7f7f; text-decoration-color: #7f7f7f\">:</span><a href=\"file:///home/smathad/se-489/venv/lib/python3.12/site-packages/urllib3/connectionpool.py#1049\" target=\"_blank\"><span style=\"color: #7f7f7f; text-decoration-color: #7f7f7f\">1049</span></a>\n",
       "</pre>\n"
      ],
      "text/plain": [
       "\u001b[2;36m                   \u001b[0m\u001b[2;36m \u001b[0m\u001b[32mDEBUG   \u001b[0m Starting new HTTPS connection \u001b[1m(\u001b[0m\u001b[1;36m1\u001b[0m\u001b[1m)\u001b[0m: huggingface.co:\u001b[1;36m443\u001b[0m           \u001b]8;id=859994;file:///home/smathad/se-489/venv/lib/python3.12/site-packages/urllib3/connectionpool.py\u001b\\\u001b[2mconnectionpool.py\u001b[0m\u001b]8;;\u001b\\\u001b[2m:\u001b[0m\u001b]8;id=238538;file:///home/smathad/se-489/venv/lib/python3.12/site-packages/urllib3/connectionpool.py#1049\u001b\\\u001b[2m1049\u001b[0m\u001b]8;;\u001b\\\n"
      ]
     },
     "metadata": {},
     "output_type": "display_data"
    },
    {
     "data": {
      "text/html": [
       "<pre style=\"white-space:pre;overflow-x:auto;line-height:normal;font-family:Menlo,'DejaVu Sans Mono',consolas,'Courier New',monospace\"><span style=\"color: #7fbfbf; text-decoration-color: #7fbfbf\">                    </span><span style=\"color: #008000; text-decoration-color: #008000\">DEBUG   </span> <span style=\"color: #0000ff; text-decoration-color: #0000ff; text-decoration: underline\">https://huggingface.co:443</span> <span style=\"color: #008000; text-decoration-color: #008000\">\"</span><span style=\"color: #808000; text-decoration-color: #808000; font-weight: bold\">HEAD</span><span style=\"color: #008000; text-decoration-color: #008000\"> </span>                                <a href=\"file:///home/smathad/se-489/venv/lib/python3.12/site-packages/urllib3/connectionpool.py\" target=\"_blank\"><span style=\"color: #7f7f7f; text-decoration-color: #7f7f7f\">connectionpool.py</span></a><span style=\"color: #7f7f7f; text-decoration-color: #7f7f7f\">:</span><a href=\"file:///home/smathad/se-489/venv/lib/python3.12/site-packages/urllib3/connectionpool.py#544\" target=\"_blank\"><span style=\"color: #7f7f7f; text-decoration-color: #7f7f7f\">544</span></a>\n",
       "<span style=\"color: #7fbfbf; text-decoration-color: #7fbfbf\">                    </span>         <span style=\"color: #008000; text-decoration-color: #008000\">/spaces/evaluate-metric/accuracy/resolve/v0.4.3/accuracy.py </span>     <span style=\"color: #7f7f7f; text-decoration-color: #7f7f7f\">                     </span>\n",
       "<span style=\"color: #7fbfbf; text-decoration-color: #7fbfbf\">                    </span>         <span style=\"color: #008000; text-decoration-color: #008000\">HTTP/1.1\"</span> <span style=\"color: #008080; text-decoration-color: #008080; font-weight: bold\">404</span> <span style=\"color: #008080; text-decoration-color: #008080; font-weight: bold\">0</span>                                                  <span style=\"color: #7f7f7f; text-decoration-color: #7f7f7f\">                     </span>\n",
       "</pre>\n"
      ],
      "text/plain": [
       "\u001b[2;36m                   \u001b[0m\u001b[2;36m \u001b[0m\u001b[32mDEBUG   \u001b[0m \u001b[4;94mhttps://huggingface.co:443\u001b[0m \u001b[32m\"\u001b[0m\u001b[1;33mHEAD\u001b[0m\u001b[32m \u001b[0m                                \u001b]8;id=141325;file:///home/smathad/se-489/venv/lib/python3.12/site-packages/urllib3/connectionpool.py\u001b\\\u001b[2mconnectionpool.py\u001b[0m\u001b]8;;\u001b\\\u001b[2m:\u001b[0m\u001b]8;id=108207;file:///home/smathad/se-489/venv/lib/python3.12/site-packages/urllib3/connectionpool.py#544\u001b\\\u001b[2m544\u001b[0m\u001b]8;;\u001b\\\n",
       "\u001b[2;36m                    \u001b[0m         \u001b[32m/spaces/evaluate-metric/accuracy/resolve/v0.4.3/accuracy.py \u001b[0m     \u001b[2m                     \u001b[0m\n",
       "\u001b[2;36m                    \u001b[0m         \u001b[32mHTTP/1.1\"\u001b[0m \u001b[1;36m404\u001b[0m \u001b[1;36m0\u001b[0m                                                  \u001b[2m                     \u001b[0m\n"
      ]
     },
     "metadata": {},
     "output_type": "display_data"
    },
    {
     "data": {
      "text/html": [
       "<pre style=\"white-space:pre;overflow-x:auto;line-height:normal;font-family:Menlo,'DejaVu Sans Mono',consolas,'Courier New',monospace\"><span style=\"color: #7fbfbf; text-decoration-color: #7fbfbf\">                    </span><span style=\"color: #008000; text-decoration-color: #008000\">DEBUG   </span> Starting new HTTPS connection <span style=\"font-weight: bold\">(</span><span style=\"color: #008080; text-decoration-color: #008080; font-weight: bold\">1</span><span style=\"font-weight: bold\">)</span>: huggingface.co:<span style=\"color: #008080; text-decoration-color: #008080; font-weight: bold\">443</span>           <a href=\"file:///home/smathad/se-489/venv/lib/python3.12/site-packages/urllib3/connectionpool.py\" target=\"_blank\"><span style=\"color: #7f7f7f; text-decoration-color: #7f7f7f\">connectionpool.py</span></a><span style=\"color: #7f7f7f; text-decoration-color: #7f7f7f\">:</span><a href=\"file:///home/smathad/se-489/venv/lib/python3.12/site-packages/urllib3/connectionpool.py#1049\" target=\"_blank\"><span style=\"color: #7f7f7f; text-decoration-color: #7f7f7f\">1049</span></a>\n",
       "</pre>\n"
      ],
      "text/plain": [
       "\u001b[2;36m                   \u001b[0m\u001b[2;36m \u001b[0m\u001b[32mDEBUG   \u001b[0m Starting new HTTPS connection \u001b[1m(\u001b[0m\u001b[1;36m1\u001b[0m\u001b[1m)\u001b[0m: huggingface.co:\u001b[1;36m443\u001b[0m           \u001b]8;id=154171;file:///home/smathad/se-489/venv/lib/python3.12/site-packages/urllib3/connectionpool.py\u001b\\\u001b[2mconnectionpool.py\u001b[0m\u001b]8;;\u001b\\\u001b[2m:\u001b[0m\u001b]8;id=932241;file:///home/smathad/se-489/venv/lib/python3.12/site-packages/urllib3/connectionpool.py#1049\u001b\\\u001b[2m1049\u001b[0m\u001b]8;;\u001b\\\n"
      ]
     },
     "metadata": {},
     "output_type": "display_data"
    },
    {
     "data": {
      "text/html": [
       "<pre style=\"white-space:pre;overflow-x:auto;line-height:normal;font-family:Menlo,'DejaVu Sans Mono',consolas,'Courier New',monospace\"><span style=\"color: #7fbfbf; text-decoration-color: #7fbfbf\">                    </span><span style=\"color: #008000; text-decoration-color: #008000\">DEBUG   </span> <span style=\"color: #0000ff; text-decoration-color: #0000ff; text-decoration: underline\">https://huggingface.co:443</span> <span style=\"color: #008000; text-decoration-color: #008000\">\"</span><span style=\"color: #808000; text-decoration-color: #808000; font-weight: bold\">HEAD</span><span style=\"color: #008000; text-decoration-color: #008000\"> </span>                                <a href=\"file:///home/smathad/se-489/venv/lib/python3.12/site-packages/urllib3/connectionpool.py\" target=\"_blank\"><span style=\"color: #7f7f7f; text-decoration-color: #7f7f7f\">connectionpool.py</span></a><span style=\"color: #7f7f7f; text-decoration-color: #7f7f7f\">:</span><a href=\"file:///home/smathad/se-489/venv/lib/python3.12/site-packages/urllib3/connectionpool.py#544\" target=\"_blank\"><span style=\"color: #7f7f7f; text-decoration-color: #7f7f7f\">544</span></a>\n",
       "<span style=\"color: #7fbfbf; text-decoration-color: #7fbfbf\">                    </span>         <span style=\"color: #008000; text-decoration-color: #008000\">/spaces/evaluate-metric/accuracy/resolve/main/accuracy.py </span>       <span style=\"color: #7f7f7f; text-decoration-color: #7f7f7f\">                     </span>\n",
       "<span style=\"color: #7fbfbf; text-decoration-color: #7fbfbf\">                    </span>         <span style=\"color: #008000; text-decoration-color: #008000\">HTTP/1.1\"</span> <span style=\"color: #008080; text-decoration-color: #008080; font-weight: bold\">200</span> <span style=\"color: #008080; text-decoration-color: #008080; font-weight: bold\">0</span>                                                  <span style=\"color: #7f7f7f; text-decoration-color: #7f7f7f\">                     </span>\n",
       "</pre>\n"
      ],
      "text/plain": [
       "\u001b[2;36m                   \u001b[0m\u001b[2;36m \u001b[0m\u001b[32mDEBUG   \u001b[0m \u001b[4;94mhttps://huggingface.co:443\u001b[0m \u001b[32m\"\u001b[0m\u001b[1;33mHEAD\u001b[0m\u001b[32m \u001b[0m                                \u001b]8;id=229237;file:///home/smathad/se-489/venv/lib/python3.12/site-packages/urllib3/connectionpool.py\u001b\\\u001b[2mconnectionpool.py\u001b[0m\u001b]8;;\u001b\\\u001b[2m:\u001b[0m\u001b]8;id=724271;file:///home/smathad/se-489/venv/lib/python3.12/site-packages/urllib3/connectionpool.py#544\u001b\\\u001b[2m544\u001b[0m\u001b]8;;\u001b\\\n",
       "\u001b[2;36m                    \u001b[0m         \u001b[32m/spaces/evaluate-metric/accuracy/resolve/main/accuracy.py \u001b[0m       \u001b[2m                     \u001b[0m\n",
       "\u001b[2;36m                    \u001b[0m         \u001b[32mHTTP/1.1\"\u001b[0m \u001b[1;36m200\u001b[0m \u001b[1;36m0\u001b[0m                                                  \u001b[2m                     \u001b[0m\n"
      ]
     },
     "metadata": {},
     "output_type": "display_data"
    },
    {
     "data": {
      "text/html": [
       "<pre style=\"white-space:pre;overflow-x:auto;line-height:normal;font-family:Menlo,'DejaVu Sans Mono',consolas,'Courier New',monospace\"><span style=\"color: #7fbfbf; text-decoration-color: #7fbfbf\">                    </span><span style=\"color: #008000; text-decoration-color: #008000\">DEBUG   </span> Attempting to acquire lock <span style=\"color: #008080; text-decoration-color: #008080; font-weight: bold\">126442735778992</span> on                              <a href=\"file:///home/smathad/se-489/venv/lib/python3.12/site-packages/filelock/_api.py\" target=\"_blank\"><span style=\"color: #7f7f7f; text-decoration-color: #7f7f7f\">_api.py</span></a><span style=\"color: #7f7f7f; text-decoration-color: #7f7f7f\">:</span><a href=\"file:///home/smathad/se-489/venv/lib/python3.12/site-packages/filelock/_api.py#331\" target=\"_blank\"><span style=\"color: #7f7f7f; text-decoration-color: #7f7f7f\">331</span></a>\n",
       "<span style=\"color: #7fbfbf; text-decoration-color: #7fbfbf\">                    </span>         <span style=\"color: #800080; text-decoration-color: #800080\">/home/smathad/.cache/huggingface/modules/evaluate_modules/metrics/</span><span style=\"color: #ff00ff; text-decoration-color: #ff00ff\">evaluate</span> <span style=\"color: #7f7f7f; text-decoration-color: #7f7f7f\">           </span>\n",
       "<span style=\"color: #7fbfbf; text-decoration-color: #7fbfbf\">                    </span>         <span style=\"color: #ff00ff; text-decoration-color: #ff00ff\">-metric--accuracy.lock</span>                                                     <span style=\"color: #7f7f7f; text-decoration-color: #7f7f7f\">           </span>\n",
       "</pre>\n"
      ],
      "text/plain": [
       "\u001b[2;36m                   \u001b[0m\u001b[2;36m \u001b[0m\u001b[32mDEBUG   \u001b[0m Attempting to acquire lock \u001b[1;36m126442735778992\u001b[0m on                              \u001b]8;id=794045;file:///home/smathad/se-489/venv/lib/python3.12/site-packages/filelock/_api.py\u001b\\\u001b[2m_api.py\u001b[0m\u001b]8;;\u001b\\\u001b[2m:\u001b[0m\u001b]8;id=618959;file:///home/smathad/se-489/venv/lib/python3.12/site-packages/filelock/_api.py#331\u001b\\\u001b[2m331\u001b[0m\u001b]8;;\u001b\\\n",
       "\u001b[2;36m                    \u001b[0m         \u001b[35m/home/smathad/.cache/huggingface/modules/evaluate_modules/metrics/\u001b[0m\u001b[95mevaluate\u001b[0m \u001b[2m           \u001b[0m\n",
       "\u001b[2;36m                    \u001b[0m         \u001b[95m-metric--accuracy.lock\u001b[0m                                                     \u001b[2m           \u001b[0m\n"
      ]
     },
     "metadata": {},
     "output_type": "display_data"
    },
    {
     "data": {
      "text/html": [
       "<pre style=\"white-space:pre;overflow-x:auto;line-height:normal;font-family:Menlo,'DejaVu Sans Mono',consolas,'Courier New',monospace\"><span style=\"color: #7fbfbf; text-decoration-color: #7fbfbf\">                    </span><span style=\"color: #008000; text-decoration-color: #008000\">DEBUG   </span> Lock <span style=\"color: #008080; text-decoration-color: #008080; font-weight: bold\">126442735778992</span> acquired on                                           <a href=\"file:///home/smathad/se-489/venv/lib/python3.12/site-packages/filelock/_api.py\" target=\"_blank\"><span style=\"color: #7f7f7f; text-decoration-color: #7f7f7f\">_api.py</span></a><span style=\"color: #7f7f7f; text-decoration-color: #7f7f7f\">:</span><a href=\"file:///home/smathad/se-489/venv/lib/python3.12/site-packages/filelock/_api.py#334\" target=\"_blank\"><span style=\"color: #7f7f7f; text-decoration-color: #7f7f7f\">334</span></a>\n",
       "<span style=\"color: #7fbfbf; text-decoration-color: #7fbfbf\">                    </span>         <span style=\"color: #800080; text-decoration-color: #800080\">/home/smathad/.cache/huggingface/modules/evaluate_modules/metrics/</span><span style=\"color: #ff00ff; text-decoration-color: #ff00ff\">evaluate</span> <span style=\"color: #7f7f7f; text-decoration-color: #7f7f7f\">           </span>\n",
       "<span style=\"color: #7fbfbf; text-decoration-color: #7fbfbf\">                    </span>         <span style=\"color: #ff00ff; text-decoration-color: #ff00ff\">-metric--accuracy.lock</span>                                                     <span style=\"color: #7f7f7f; text-decoration-color: #7f7f7f\">           </span>\n",
       "</pre>\n"
      ],
      "text/plain": [
       "\u001b[2;36m                   \u001b[0m\u001b[2;36m \u001b[0m\u001b[32mDEBUG   \u001b[0m Lock \u001b[1;36m126442735778992\u001b[0m acquired on                                           \u001b]8;id=650731;file:///home/smathad/se-489/venv/lib/python3.12/site-packages/filelock/_api.py\u001b\\\u001b[2m_api.py\u001b[0m\u001b]8;;\u001b\\\u001b[2m:\u001b[0m\u001b]8;id=294197;file:///home/smathad/se-489/venv/lib/python3.12/site-packages/filelock/_api.py#334\u001b\\\u001b[2m334\u001b[0m\u001b]8;;\u001b\\\n",
       "\u001b[2;36m                    \u001b[0m         \u001b[35m/home/smathad/.cache/huggingface/modules/evaluate_modules/metrics/\u001b[0m\u001b[95mevaluate\u001b[0m \u001b[2m           \u001b[0m\n",
       "\u001b[2;36m                    \u001b[0m         \u001b[95m-metric--accuracy.lock\u001b[0m                                                     \u001b[2m           \u001b[0m\n"
      ]
     },
     "metadata": {},
     "output_type": "display_data"
    },
    {
     "data": {
      "text/html": [
       "<pre style=\"white-space:pre;overflow-x:auto;line-height:normal;font-family:Menlo,'DejaVu Sans Mono',consolas,'Courier New',monospace\"><span style=\"color: #7fbfbf; text-decoration-color: #7fbfbf\">                    </span><span style=\"color: #008000; text-decoration-color: #008000\">DEBUG   </span> Attempting to release lock <span style=\"color: #008080; text-decoration-color: #008080; font-weight: bold\">126442735778992</span> on                              <a href=\"file:///home/smathad/se-489/venv/lib/python3.12/site-packages/filelock/_api.py\" target=\"_blank\"><span style=\"color: #7f7f7f; text-decoration-color: #7f7f7f\">_api.py</span></a><span style=\"color: #7f7f7f; text-decoration-color: #7f7f7f\">:</span><a href=\"file:///home/smathad/se-489/venv/lib/python3.12/site-packages/filelock/_api.py#364\" target=\"_blank\"><span style=\"color: #7f7f7f; text-decoration-color: #7f7f7f\">364</span></a>\n",
       "<span style=\"color: #7fbfbf; text-decoration-color: #7fbfbf\">                    </span>         <span style=\"color: #800080; text-decoration-color: #800080\">/home/smathad/.cache/huggingface/modules/evaluate_modules/metrics/</span><span style=\"color: #ff00ff; text-decoration-color: #ff00ff\">evaluate</span> <span style=\"color: #7f7f7f; text-decoration-color: #7f7f7f\">           </span>\n",
       "<span style=\"color: #7fbfbf; text-decoration-color: #7fbfbf\">                    </span>         <span style=\"color: #ff00ff; text-decoration-color: #ff00ff\">-metric--accuracy.lock</span>                                                     <span style=\"color: #7f7f7f; text-decoration-color: #7f7f7f\">           </span>\n",
       "</pre>\n"
      ],
      "text/plain": [
       "\u001b[2;36m                   \u001b[0m\u001b[2;36m \u001b[0m\u001b[32mDEBUG   \u001b[0m Attempting to release lock \u001b[1;36m126442735778992\u001b[0m on                              \u001b]8;id=751398;file:///home/smathad/se-489/venv/lib/python3.12/site-packages/filelock/_api.py\u001b\\\u001b[2m_api.py\u001b[0m\u001b]8;;\u001b\\\u001b[2m:\u001b[0m\u001b]8;id=621088;file:///home/smathad/se-489/venv/lib/python3.12/site-packages/filelock/_api.py#364\u001b\\\u001b[2m364\u001b[0m\u001b]8;;\u001b\\\n",
       "\u001b[2;36m                    \u001b[0m         \u001b[35m/home/smathad/.cache/huggingface/modules/evaluate_modules/metrics/\u001b[0m\u001b[95mevaluate\u001b[0m \u001b[2m           \u001b[0m\n",
       "\u001b[2;36m                    \u001b[0m         \u001b[95m-metric--accuracy.lock\u001b[0m                                                     \u001b[2m           \u001b[0m\n"
      ]
     },
     "metadata": {},
     "output_type": "display_data"
    },
    {
     "data": {
      "text/html": [
       "<pre style=\"white-space:pre;overflow-x:auto;line-height:normal;font-family:Menlo,'DejaVu Sans Mono',consolas,'Courier New',monospace\"><span style=\"color: #7fbfbf; text-decoration-color: #7fbfbf\">                    </span><span style=\"color: #008000; text-decoration-color: #008000\">DEBUG   </span> Lock <span style=\"color: #008080; text-decoration-color: #008080; font-weight: bold\">126442735778992</span> released on                                           <a href=\"file:///home/smathad/se-489/venv/lib/python3.12/site-packages/filelock/_api.py\" target=\"_blank\"><span style=\"color: #7f7f7f; text-decoration-color: #7f7f7f\">_api.py</span></a><span style=\"color: #7f7f7f; text-decoration-color: #7f7f7f\">:</span><a href=\"file:///home/smathad/se-489/venv/lib/python3.12/site-packages/filelock/_api.py#367\" target=\"_blank\"><span style=\"color: #7f7f7f; text-decoration-color: #7f7f7f\">367</span></a>\n",
       "<span style=\"color: #7fbfbf; text-decoration-color: #7fbfbf\">                    </span>         <span style=\"color: #800080; text-decoration-color: #800080\">/home/smathad/.cache/huggingface/modules/evaluate_modules/metrics/</span><span style=\"color: #ff00ff; text-decoration-color: #ff00ff\">evaluate</span> <span style=\"color: #7f7f7f; text-decoration-color: #7f7f7f\">           </span>\n",
       "<span style=\"color: #7fbfbf; text-decoration-color: #7fbfbf\">                    </span>         <span style=\"color: #ff00ff; text-decoration-color: #ff00ff\">-metric--accuracy.lock</span>                                                     <span style=\"color: #7f7f7f; text-decoration-color: #7f7f7f\">           </span>\n",
       "</pre>\n"
      ],
      "text/plain": [
       "\u001b[2;36m                   \u001b[0m\u001b[2;36m \u001b[0m\u001b[32mDEBUG   \u001b[0m Lock \u001b[1;36m126442735778992\u001b[0m released on                                           \u001b]8;id=322285;file:///home/smathad/se-489/venv/lib/python3.12/site-packages/filelock/_api.py\u001b\\\u001b[2m_api.py\u001b[0m\u001b]8;;\u001b\\\u001b[2m:\u001b[0m\u001b]8;id=120586;file:///home/smathad/se-489/venv/lib/python3.12/site-packages/filelock/_api.py#367\u001b\\\u001b[2m367\u001b[0m\u001b]8;;\u001b\\\n",
       "\u001b[2;36m                    \u001b[0m         \u001b[35m/home/smathad/.cache/huggingface/modules/evaluate_modules/metrics/\u001b[0m\u001b[95mevaluate\u001b[0m \u001b[2m           \u001b[0m\n",
       "\u001b[2;36m                    \u001b[0m         \u001b[95m-metric--accuracy.lock\u001b[0m                                                     \u001b[2m           \u001b[0m\n"
      ]
     },
     "metadata": {},
     "output_type": "display_data"
    },
    {
     "data": {
      "text/html": [
       "<pre style=\"white-space:pre;overflow-x:auto;line-height:normal;font-family:Menlo,'DejaVu Sans Mono',consolas,'Courier New',monospace\"><span style=\"color: #7fbfbf; text-decoration-color: #7fbfbf\">                    </span><span style=\"color: #000080; text-decoration-color: #000080\">INFO    </span> Loading dataset from                                                 <a href=\"file:///home/smathad/se-489/venv/lib/python3.12/site-packages/team_ops/train_model.py\" target=\"_blank\"><span style=\"color: #7f7f7f; text-decoration-color: #7f7f7f\">train_model.py</span></a><span style=\"color: #7f7f7f; text-decoration-color: #7f7f7f\">:</span><a href=\"file:///home/smathad/se-489/venv/lib/python3.12/site-packages/team_ops/train_model.py#50\" target=\"_blank\"><span style=\"color: #7f7f7f; text-decoration-color: #7f7f7f\">50</span></a>\n",
       "<span style=\"color: #7fbfbf; text-decoration-color: #7fbfbf\">                    </span>         <span style=\"color: #800080; text-decoration-color: #800080\">/home/smathad/se-489/data/processed/</span><span style=\"color: #ff00ff; text-decoration-color: #ff00ff\">processed_dataset.csv</span>            <span style=\"color: #7f7f7f; text-decoration-color: #7f7f7f\">                 </span>\n",
       "</pre>\n"
      ],
      "text/plain": [
       "\u001b[2;36m                   \u001b[0m\u001b[2;36m \u001b[0m\u001b[34mINFO    \u001b[0m Loading dataset from                                                 \u001b]8;id=54505;file:///home/smathad/se-489/venv/lib/python3.12/site-packages/team_ops/train_model.py\u001b\\\u001b[2mtrain_model.py\u001b[0m\u001b]8;;\u001b\\\u001b[2m:\u001b[0m\u001b]8;id=227029;file:///home/smathad/se-489/venv/lib/python3.12/site-packages/team_ops/train_model.py#50\u001b\\\u001b[2m50\u001b[0m\u001b]8;;\u001b\\\n",
       "\u001b[2;36m                    \u001b[0m         \u001b[35m/home/smathad/se-489/data/processed/\u001b[0m\u001b[95mprocessed_dataset.csv\u001b[0m            \u001b[2m                 \u001b[0m\n"
      ]
     },
     "metadata": {},
     "output_type": "display_data"
    },
    {
     "data": {
      "text/html": [
       "<pre style=\"white-space:pre;overflow-x:auto;line-height:normal;font-family:Menlo,'DejaVu Sans Mono',consolas,'Courier New',monospace\"><span style=\"color: #7fbfbf; text-decoration-color: #7fbfbf\">                    </span><span style=\"color: #000080; text-decoration-color: #000080\">INFO    </span> Data loaded succesfully.                                             <a href=\"file:///home/smathad/se-489/venv/lib/python3.12/site-packages/team_ops/train_model.py\" target=\"_blank\"><span style=\"color: #7f7f7f; text-decoration-color: #7f7f7f\">train_model.py</span></a><span style=\"color: #7f7f7f; text-decoration-color: #7f7f7f\">:</span><a href=\"file:///home/smathad/se-489/venv/lib/python3.12/site-packages/team_ops/train_model.py#52\" target=\"_blank\"><span style=\"color: #7f7f7f; text-decoration-color: #7f7f7f\">52</span></a>\n",
       "</pre>\n"
      ],
      "text/plain": [
       "\u001b[2;36m                   \u001b[0m\u001b[2;36m \u001b[0m\u001b[34mINFO    \u001b[0m Data loaded succesfully.                                             \u001b]8;id=466845;file:///home/smathad/se-489/venv/lib/python3.12/site-packages/team_ops/train_model.py\u001b\\\u001b[2mtrain_model.py\u001b[0m\u001b]8;;\u001b\\\u001b[2m:\u001b[0m\u001b]8;id=13761;file:///home/smathad/se-489/venv/lib/python3.12/site-packages/team_ops/train_model.py#52\u001b\\\u001b[2m52\u001b[0m\u001b]8;;\u001b\\\n"
      ]
     },
     "metadata": {},
     "output_type": "display_data"
    },
    {
     "data": {
      "text/html": [
       "<pre style=\"white-space:pre;overflow-x:auto;line-height:normal;font-family:Menlo,'DejaVu Sans Mono',consolas,'Courier New',monospace\"><span style=\"color: #7fbfbf; text-decoration-color: #7fbfbf\">                    </span><span style=\"color: #008000; text-decoration-color: #008000\">DEBUG   </span> <span style=\"color: #0000ff; text-decoration-color: #0000ff; text-decoration: underline\">https://huggingface.co:443</span> <span style=\"color: #008000; text-decoration-color: #008000\">\"</span><span style=\"color: #808000; text-decoration-color: #808000; font-weight: bold\">HEAD</span><span style=\"color: #008000; text-decoration-color: #008000\"> </span>                                <a href=\"file:///home/smathad/se-489/venv/lib/python3.12/site-packages/urllib3/connectionpool.py\" target=\"_blank\"><span style=\"color: #7f7f7f; text-decoration-color: #7f7f7f\">connectionpool.py</span></a><span style=\"color: #7f7f7f; text-decoration-color: #7f7f7f\">:</span><a href=\"file:///home/smathad/se-489/venv/lib/python3.12/site-packages/urllib3/connectionpool.py#544\" target=\"_blank\"><span style=\"color: #7f7f7f; text-decoration-color: #7f7f7f\">544</span></a>\n",
       "<span style=\"color: #7fbfbf; text-decoration-color: #7fbfbf\">                    </span>         <span style=\"color: #008000; text-decoration-color: #008000\">/distilbert/distilbert-base-uncased/resolve/main/config.json </span>    <span style=\"color: #7f7f7f; text-decoration-color: #7f7f7f\">                     </span>\n",
       "<span style=\"color: #7fbfbf; text-decoration-color: #7fbfbf\">                    </span>         <span style=\"color: #008000; text-decoration-color: #008000\">HTTP/1.1\"</span> <span style=\"color: #008080; text-decoration-color: #008080; font-weight: bold\">200</span> <span style=\"color: #008080; text-decoration-color: #008080; font-weight: bold\">0</span>                                                  <span style=\"color: #7f7f7f; text-decoration-color: #7f7f7f\">                     </span>\n",
       "</pre>\n"
      ],
      "text/plain": [
       "\u001b[2;36m                   \u001b[0m\u001b[2;36m \u001b[0m\u001b[32mDEBUG   \u001b[0m \u001b[4;94mhttps://huggingface.co:443\u001b[0m \u001b[32m\"\u001b[0m\u001b[1;33mHEAD\u001b[0m\u001b[32m \u001b[0m                                \u001b]8;id=329776;file:///home/smathad/se-489/venv/lib/python3.12/site-packages/urllib3/connectionpool.py\u001b\\\u001b[2mconnectionpool.py\u001b[0m\u001b]8;;\u001b\\\u001b[2m:\u001b[0m\u001b]8;id=636062;file:///home/smathad/se-489/venv/lib/python3.12/site-packages/urllib3/connectionpool.py#544\u001b\\\u001b[2m544\u001b[0m\u001b]8;;\u001b\\\n",
       "\u001b[2;36m                    \u001b[0m         \u001b[32m/distilbert/distilbert-base-uncased/resolve/main/config.json \u001b[0m    \u001b[2m                     \u001b[0m\n",
       "\u001b[2;36m                    \u001b[0m         \u001b[32mHTTP/1.1\"\u001b[0m \u001b[1;36m200\u001b[0m \u001b[1;36m0\u001b[0m                                                  \u001b[2m                     \u001b[0m\n"
      ]
     },
     "metadata": {},
     "output_type": "display_data"
    },
    {
     "name": "stderr",
     "output_type": "stream",
     "text": [
      "Some weights of DistilBertForSequenceClassification were not initialized from the model checkpoint at distilbert/distilbert-base-uncased and are newly initialized: ['classifier.bias', 'classifier.weight', 'pre_classifier.bias', 'pre_classifier.weight']\n",
      "You should probably TRAIN this model on a down-stream task to be able to use it for predictions and inference.\n"
     ]
    }
   ],
   "source": [
    "model = Model()"
   ]
  },
  {
   "cell_type": "code",
   "execution_count": 3,
   "id": "cd7bb4ec",
   "metadata": {},
   "outputs": [
    {
     "data": {
      "text/plain": [
       "'  The previously derived vortex atomic form factor, which is directly related to a differential reaction cross section, is used to analyze the elastic scattering of twisted vortex photons with a hydrogenic atomic target. The vortex atomic form factor is expressed in a unified spherical basis and implemented in a MatLab code that numerically evaluates it using globally adaptive quadrature. The results of this code show the influence of variation in the photon wavelength, Rayleigh range, and scattering angle on differential reaction cross sections and the twist factor, which measures the impact of introducing orbital angular momentum. The recently suggested double mirror effect that accounts for a non-zero effect in the forward direction for twisted photon interactions is numerically confirmed. Finally, it is shown that differential reaction cross sections are greatly amplified when the Rayleigh range and photon wavelength are brought close to the scale of an atom. Experimental considerations and applications are briefly discussed, including quantum information, in which the scattering of twisted photons on atomic targets can be used to transfer information between light and matter. '"
      ]
     },
     "execution_count": 3,
     "metadata": {},
     "output_type": "execute_result"
    }
   ],
   "source": [
    "model._data[\"text\"].values[0]"
   ]
  },
  {
   "cell_type": "code",
   "execution_count": 4,
   "id": "b406eb62",
   "metadata": {},
   "outputs": [
    {
     "data": {
      "text/html": [
       "<pre style=\"white-space:pre;overflow-x:auto;line-height:normal;font-family:Menlo,'DejaVu Sans Mono',consolas,'Courier New',monospace\"><span style=\"color: #7fbfbf; text-decoration-color: #7fbfbf\">                    </span><span style=\"color: #000080; text-decoration-color: #000080\">INFO    </span> Splitting dataset into train and test sets.                         <a href=\"file:///home/smathad/se-489/venv/lib/python3.12/site-packages/team_ops/train_model.py\" target=\"_blank\"><span style=\"color: #7f7f7f; text-decoration-color: #7f7f7f\">train_model.py</span></a><span style=\"color: #7f7f7f; text-decoration-color: #7f7f7f\">:</span><a href=\"file:///home/smathad/se-489/venv/lib/python3.12/site-packages/team_ops/train_model.py#106\" target=\"_blank\"><span style=\"color: #7f7f7f; text-decoration-color: #7f7f7f\">106</span></a>\n",
       "</pre>\n"
      ],
      "text/plain": [
       "\u001b[2;36m                   \u001b[0m\u001b[2;36m \u001b[0m\u001b[34mINFO    \u001b[0m Splitting dataset into train and test sets.                         \u001b]8;id=296428;file:///home/smathad/se-489/venv/lib/python3.12/site-packages/team_ops/train_model.py\u001b\\\u001b[2mtrain_model.py\u001b[0m\u001b]8;;\u001b\\\u001b[2m:\u001b[0m\u001b]8;id=275786;file:///home/smathad/se-489/venv/lib/python3.12/site-packages/team_ops/train_model.py#106\u001b\\\u001b[2m106\u001b[0m\u001b]8;;\u001b\\\n"
      ]
     },
     "metadata": {},
     "output_type": "display_data"
    },
    {
     "data": {
      "text/html": [
       "<pre style=\"white-space:pre;overflow-x:auto;line-height:normal;font-family:Menlo,'DejaVu Sans Mono',consolas,'Courier New',monospace\"><span style=\"color: #7fbfbf; text-decoration-color: #7fbfbf\">                    </span><span style=\"color: #000080; text-decoration-color: #000080\">INFO    </span> Creating test set.                                                  <a href=\"file:///home/smathad/se-489/venv/lib/python3.12/site-packages/team_ops/train_model.py\" target=\"_blank\"><span style=\"color: #7f7f7f; text-decoration-color: #7f7f7f\">train_model.py</span></a><span style=\"color: #7f7f7f; text-decoration-color: #7f7f7f\">:</span><a href=\"file:///home/smathad/se-489/venv/lib/python3.12/site-packages/team_ops/train_model.py#110\" target=\"_blank\"><span style=\"color: #7f7f7f; text-decoration-color: #7f7f7f\">110</span></a>\n",
       "</pre>\n"
      ],
      "text/plain": [
       "\u001b[2;36m                   \u001b[0m\u001b[2;36m \u001b[0m\u001b[34mINFO    \u001b[0m Creating test set.                                                  \u001b]8;id=107549;file:///home/smathad/se-489/venv/lib/python3.12/site-packages/team_ops/train_model.py\u001b\\\u001b[2mtrain_model.py\u001b[0m\u001b]8;;\u001b\\\u001b[2m:\u001b[0m\u001b]8;id=183248;file:///home/smathad/se-489/venv/lib/python3.12/site-packages/team_ops/train_model.py#110\u001b\\\u001b[2m110\u001b[0m\u001b]8;;\u001b\\\n"
      ]
     },
     "metadata": {},
     "output_type": "display_data"
    },
    {
     "data": {
      "text/html": [
       "<pre style=\"white-space:pre;overflow-x:auto;line-height:normal;font-family:Menlo,'DejaVu Sans Mono',consolas,'Courier New',monospace\"><span style=\"color: #7fbfbf; text-decoration-color: #7fbfbf\">[05/22/25 11:23:56] </span><span style=\"color: #000080; text-decoration-color: #000080\">INFO    </span> Dataset created successfully.                                       <a href=\"file:///home/smathad/se-489/venv/lib/python3.12/site-packages/team_ops/train_model.py\" target=\"_blank\"><span style=\"color: #7f7f7f; text-decoration-color: #7f7f7f\">train_model.py</span></a><span style=\"color: #7f7f7f; text-decoration-color: #7f7f7f\">:</span><a href=\"file:///home/smathad/se-489/venv/lib/python3.12/site-packages/team_ops/train_model.py#120\" target=\"_blank\"><span style=\"color: #7f7f7f; text-decoration-color: #7f7f7f\">120</span></a>\n",
       "</pre>\n"
      ],
      "text/plain": [
       "\u001b[2;36m[05/22/25 11:23:56]\u001b[0m\u001b[2;36m \u001b[0m\u001b[34mINFO    \u001b[0m Dataset created successfully.                                       \u001b]8;id=131637;file:///home/smathad/se-489/venv/lib/python3.12/site-packages/team_ops/train_model.py\u001b\\\u001b[2mtrain_model.py\u001b[0m\u001b]8;;\u001b\\\u001b[2m:\u001b[0m\u001b]8;id=341857;file:///home/smathad/se-489/venv/lib/python3.12/site-packages/team_ops/train_model.py#120\u001b\\\u001b[2m120\u001b[0m\u001b]8;;\u001b\\\n"
      ]
     },
     "metadata": {},
     "output_type": "display_data"
    },
    {
     "data": {
      "text/html": [
       "<pre style=\"white-space:pre;overflow-x:auto;line-height:normal;font-family:Menlo,'DejaVu Sans Mono',consolas,'Courier New',monospace\"><span style=\"color: #7fbfbf; text-decoration-color: #7fbfbf\">                    </span><span style=\"color: #000080; text-decoration-color: #000080\">INFO    </span> Tokenizing dataset.                                                 <a href=\"file:///home/smathad/se-489/venv/lib/python3.12/site-packages/team_ops/train_model.py\" target=\"_blank\"><span style=\"color: #7f7f7f; text-decoration-color: #7f7f7f\">train_model.py</span></a><span style=\"color: #7f7f7f; text-decoration-color: #7f7f7f\">:</span><a href=\"file:///home/smathad/se-489/venv/lib/python3.12/site-packages/team_ops/train_model.py#123\" target=\"_blank\"><span style=\"color: #7f7f7f; text-decoration-color: #7f7f7f\">123</span></a>\n",
       "</pre>\n"
      ],
      "text/plain": [
       "\u001b[2;36m                   \u001b[0m\u001b[2;36m \u001b[0m\u001b[34mINFO    \u001b[0m Tokenizing dataset.                                                 \u001b]8;id=155576;file:///home/smathad/se-489/venv/lib/python3.12/site-packages/team_ops/train_model.py\u001b\\\u001b[2mtrain_model.py\u001b[0m\u001b]8;;\u001b\\\u001b[2m:\u001b[0m\u001b]8;id=46637;file:///home/smathad/se-489/venv/lib/python3.12/site-packages/team_ops/train_model.py#123\u001b\\\u001b[2m123\u001b[0m\u001b]8;;\u001b\\\n"
      ]
     },
     "metadata": {},
     "output_type": "display_data"
    },
    {
     "name": "stderr",
     "output_type": "stream",
     "text": [
      "Map: 100%|██████████| 40000/40000 [00:05<00:00, 6972.94 examples/s]\n",
      "Map: 100%|██████████| 10000/10000 [00:01<00:00, 7136.43 examples/s]\n"
     ]
    }
   ],
   "source": [
    "model.make_data()"
   ]
  },
  {
   "cell_type": "code",
   "execution_count": 5,
   "id": "991c2765",
   "metadata": {},
   "outputs": [
    {
     "data": {
      "text/plain": [
       "DatasetDict({\n",
       "    train: Dataset({\n",
       "        features: ['text', 'label', '__index_level_0__', 'input_ids', 'attention_mask'],\n",
       "        num_rows: 40000\n",
       "    })\n",
       "    test: Dataset({\n",
       "        features: ['text', 'label', '__index_level_0__', 'input_ids', 'attention_mask'],\n",
       "        num_rows: 10000\n",
       "    })\n",
       "})"
      ]
     },
     "execution_count": 5,
     "metadata": {},
     "output_type": "execute_result"
    }
   ],
   "source": [
    "model._dataset"
   ]
  },
  {
   "cell_type": "code",
   "execution_count": 6,
   "id": "7952c6b2",
   "metadata": {},
   "outputs": [
    {
     "data": {
      "text/html": [
       "<pre style=\"white-space:pre;overflow-x:auto;line-height:normal;font-family:Menlo,'DejaVu Sans Mono',consolas,'Courier New',monospace\"><span style=\"color: #7fbfbf; text-decoration-color: #7fbfbf\">[05/22/25 11:24:05] </span><span style=\"color: #000080; text-decoration-color: #000080\">INFO    </span> Model already exists. Skipping training.                            <a href=\"file:///home/smathad/se-489/venv/lib/python3.12/site-packages/team_ops/train_model.py\" target=\"_blank\"><span style=\"color: #7f7f7f; text-decoration-color: #7f7f7f\">train_model.py</span></a><span style=\"color: #7f7f7f; text-decoration-color: #7f7f7f\">:</span><a href=\"file:///home/smathad/se-489/venv/lib/python3.12/site-packages/team_ops/train_model.py#170\" target=\"_blank\"><span style=\"color: #7f7f7f; text-decoration-color: #7f7f7f\">170</span></a>\n",
       "</pre>\n"
      ],
      "text/plain": [
       "\u001b[2;36m[05/22/25 11:24:05]\u001b[0m\u001b[2;36m \u001b[0m\u001b[34mINFO    \u001b[0m Model already exists. Skipping training.                            \u001b]8;id=429829;file:///home/smathad/se-489/venv/lib/python3.12/site-packages/team_ops/train_model.py\u001b\\\u001b[2mtrain_model.py\u001b[0m\u001b]8;;\u001b\\\u001b[2m:\u001b[0m\u001b]8;id=871199;file:///home/smathad/se-489/venv/lib/python3.12/site-packages/team_ops/train_model.py#170\u001b\\\u001b[2m170\u001b[0m\u001b]8;;\u001b\\\n"
      ]
     },
     "metadata": {},
     "output_type": "display_data"
    },
    {
     "data": {
      "text/html": [
       "<pre style=\"white-space:pre;overflow-x:auto;line-height:normal;font-family:Menlo,'DejaVu Sans Mono',consolas,'Courier New',monospace\"><span style=\"color: #7fbfbf; text-decoration-color: #7fbfbf\">                    </span><span style=\"color: #000080; text-decoration-color: #000080\">INFO    </span> Loading model from distilbert/distilbert-base-uncased               <a href=\"file:///home/smathad/se-489/venv/lib/python3.12/site-packages/team_ops/train_model.py\" target=\"_blank\"><span style=\"color: #7f7f7f; text-decoration-color: #7f7f7f\">train_model.py</span></a><span style=\"color: #7f7f7f; text-decoration-color: #7f7f7f\">:</span><a href=\"file:///home/smathad/se-489/venv/lib/python3.12/site-packages/team_ops/train_model.py#148\" target=\"_blank\"><span style=\"color: #7f7f7f; text-decoration-color: #7f7f7f\">148</span></a>\n",
       "</pre>\n"
      ],
      "text/plain": [
       "\u001b[2;36m                   \u001b[0m\u001b[2;36m \u001b[0m\u001b[34mINFO    \u001b[0m Loading model from distilbert/distilbert-base-uncased               \u001b]8;id=736396;file:///home/smathad/se-489/venv/lib/python3.12/site-packages/team_ops/train_model.py\u001b\\\u001b[2mtrain_model.py\u001b[0m\u001b]8;;\u001b\\\u001b[2m:\u001b[0m\u001b]8;id=382175;file:///home/smathad/se-489/venv/lib/python3.12/site-packages/team_ops/train_model.py#148\u001b\\\u001b[2m148\u001b[0m\u001b]8;;\u001b\\\n"
      ]
     },
     "metadata": {},
     "output_type": "display_data"
    },
    {
     "data": {
      "text/html": [
       "<pre style=\"white-space:pre;overflow-x:auto;line-height:normal;font-family:Menlo,'DejaVu Sans Mono',consolas,'Courier New',monospace\"><span style=\"color: #7fbfbf; text-decoration-color: #7fbfbf\">                    </span><span style=\"color: #000080; text-decoration-color: #000080\">INFO    </span> DistilBertForSequenceClassification loaded succesfully.             <a href=\"file:///home/smathad/se-489/venv/lib/python3.12/site-packages/team_ops/train_model.py\" target=\"_blank\"><span style=\"color: #7f7f7f; text-decoration-color: #7f7f7f\">train_model.py</span></a><span style=\"color: #7f7f7f; text-decoration-color: #7f7f7f\">:</span><a href=\"file:///home/smathad/se-489/venv/lib/python3.12/site-packages/team_ops/train_model.py#156\" target=\"_blank\"><span style=\"color: #7f7f7f; text-decoration-color: #7f7f7f\">156</span></a>\n",
       "</pre>\n"
      ],
      "text/plain": [
       "\u001b[2;36m                   \u001b[0m\u001b[2;36m \u001b[0m\u001b[34mINFO    \u001b[0m DistilBertForSequenceClassification loaded succesfully.             \u001b]8;id=963752;file:///home/smathad/se-489/venv/lib/python3.12/site-packages/team_ops/train_model.py\u001b\\\u001b[2mtrain_model.py\u001b[0m\u001b]8;;\u001b\\\u001b[2m:\u001b[0m\u001b]8;id=631101;file:///home/smathad/se-489/venv/lib/python3.12/site-packages/team_ops/train_model.py#156\u001b\\\u001b[2m156\u001b[0m\u001b]8;;\u001b\\\n"
      ]
     },
     "metadata": {},
     "output_type": "display_data"
    }
   ],
   "source": [
    "model.train()"
   ]
  },
  {
   "cell_type": "code",
   "execution_count": 7,
   "id": "ba97f1d2",
   "metadata": {},
   "outputs": [
    {
     "data": {
      "text/html": [
       "<pre style=\"white-space:pre;overflow-x:auto;line-height:normal;font-family:Menlo,'DejaVu Sans Mono',consolas,'Courier New',monospace\"><span style=\"color: #7fbfbf; text-decoration-color: #7fbfbf\">                    </span><span style=\"color: #000080; text-decoration-color: #000080\">INFO    </span> Making predictions.                                                 <a href=\"file:///home/smathad/se-489/venv/lib/python3.12/site-packages/team_ops/train_model.py\" target=\"_blank\"><span style=\"color: #7f7f7f; text-decoration-color: #7f7f7f\">train_model.py</span></a><span style=\"color: #7f7f7f; text-decoration-color: #7f7f7f\">:</span><a href=\"file:///home/smathad/se-489/venv/lib/python3.12/site-packages/team_ops/train_model.py#222\" target=\"_blank\"><span style=\"color: #7f7f7f; text-decoration-color: #7f7f7f\">222</span></a>\n",
       "</pre>\n"
      ],
      "text/plain": [
       "\u001b[2;36m                   \u001b[0m\u001b[2;36m \u001b[0m\u001b[34mINFO    \u001b[0m Making predictions.                                                 \u001b]8;id=521010;file:///home/smathad/se-489/venv/lib/python3.12/site-packages/team_ops/train_model.py\u001b\\\u001b[2mtrain_model.py\u001b[0m\u001b]8;;\u001b\\\u001b[2m:\u001b[0m\u001b]8;id=850968;file:///home/smathad/se-489/venv/lib/python3.12/site-packages/team_ops/train_model.py#222\u001b\\\u001b[2m222\u001b[0m\u001b]8;;\u001b\\\n"
      ]
     },
     "metadata": {},
     "output_type": "display_data"
    },
    {
     "data": {
      "text/plain": [
       "'statistics'"
      ]
     },
     "execution_count": 7,
     "metadata": {},
     "output_type": "execute_result"
    }
   ],
   "source": [
    "model.predict(\" Blood transfusion is one of the most crucial and commonly administered therapeutics worldwide. The need for more accurate and efficient ways to manage blood demand and supply is an increasing concern. Building a technology-based, robust blood demand and supply chain that can achieve the goals of reducing ordering frequency, inventory level, wastage and shortage, while maintaining the safety of blood usage, is essential in modern healthcare systems. In this study, we summarize the key challenges in current demand and supply management for red blood cells (RBCs). We combine ideas from statistical time series modeling, machine learning, and operations research in developing an ordering decision strategy for RBCs, through integrating a hybrid demand forecasting model using clinical predictors and a data-driven multi-period inventory problem considering inventory and reorder constraints. We have applied the integrated ordering strategy to the blood inventory management system in Hamilton, Ontario using a large clinical database from 2008 to 2018. The proposed hybrid demand forecasting model provides robust and accurate predictions, and identifies important clinical predictors for short-term RBC demand forecasting. Compared with the actual historical data, our integrated ordering strategy reduces the inventory level by 40% and decreases the ordering frequency by 60%, with low incidence of shortages and wastage due to expiration. If implemented successfully, our proposed strategy can achieve significant cost savings for healthcare systems and blood suppliers. The proposed ordering strategy is generalizable to other blood products or even other perishable products. \"\n",
    "              )"
   ]
  },
  {
   "cell_type": "code",
   "execution_count": 8,
   "id": "f7afff5b",
   "metadata": {},
   "outputs": [
    {
     "data": {
      "text/html": [
       "<pre style=\"white-space:pre;overflow-x:auto;line-height:normal;font-family:Menlo,'DejaVu Sans Mono',consolas,'Courier New',monospace\"><span style=\"color: #7fbfbf; text-decoration-color: #7fbfbf\">[05/22/25 11:24:06] </span><span style=\"color: #000080; text-decoration-color: #000080\">INFO    </span> Making predictions.                                                 <a href=\"file:///home/smathad/se-489/venv/lib/python3.12/site-packages/team_ops/train_model.py\" target=\"_blank\"><span style=\"color: #7f7f7f; text-decoration-color: #7f7f7f\">train_model.py</span></a><span style=\"color: #7f7f7f; text-decoration-color: #7f7f7f\">:</span><a href=\"file:///home/smathad/se-489/venv/lib/python3.12/site-packages/team_ops/train_model.py#222\" target=\"_blank\"><span style=\"color: #7f7f7f; text-decoration-color: #7f7f7f\">222</span></a>\n",
       "</pre>\n"
      ],
      "text/plain": [
       "\u001b[2;36m[05/22/25 11:24:06]\u001b[0m\u001b[2;36m \u001b[0m\u001b[34mINFO    \u001b[0m Making predictions.                                                 \u001b]8;id=575566;file:///home/smathad/se-489/venv/lib/python3.12/site-packages/team_ops/train_model.py\u001b\\\u001b[2mtrain_model.py\u001b[0m\u001b]8;;\u001b\\\u001b[2m:\u001b[0m\u001b]8;id=774410;file:///home/smathad/se-489/venv/lib/python3.12/site-packages/team_ops/train_model.py#222\u001b\\\u001b[2m222\u001b[0m\u001b]8;;\u001b\\\n"
      ]
     },
     "metadata": {},
     "output_type": "display_data"
    },
    {
     "data": {
      "text/plain": [
       "'astrophysics'"
      ]
     },
     "execution_count": 8,
     "metadata": {},
     "output_type": "execute_result"
    }
   ],
   "source": [
    "model.predict(\"  We present an independent discovery and detailed characterisation of K2-280b, a transiting low density warm sub-Saturn in a 19.9-day moderately eccentric orbit (e = 0.35_{-0.04}^{+0.05}) from K2 campaign 7. A joint analysis of high precision HARPS, HARPS-N, and FIES radial velocity measurements and K2 photometric data indicates that K2-280b has a radius of R_b = 7.50 +/- 0.44 R_Earth and a mass of M_b = 37.1 +/- 5.6 M_Earth, yielding a mean density of 0.48_{-0.10}^{+0.13} g/cm^3. The host star is a mildly evolved G7 star with an effective temperature of T_{eff} = 5500 +/- 100 K, a surface gravity of log(g) = 4.21 +/- 0.05 (cgs), and an iron abundance of [Fe/H] = 0.33 +/- 0.08 dex, and with an inferred mass of M_star = 1.03 +/- 0.03 M_sun and a radius of R_star = 1.28 +/- 0.07 R_sun. We discuss the importance of K2-280b for testing formation scenarios of sub-Saturn planets and the current sample of this intriguing group of planets that are absent in the Solar System. \"\n",
    "              )"
   ]
  }
 ],
 "metadata": {
  "kernelspec": {
   "display_name": "venv",
   "language": "python",
   "name": "python3"
  },
  "language_info": {
   "codemirror_mode": {
    "name": "ipython",
    "version": 3
   },
   "file_extension": ".py",
   "mimetype": "text/x-python",
   "name": "python",
   "nbconvert_exporter": "python",
   "pygments_lexer": "ipython3",
   "version": "3.11.5"
  }
 },
 "nbformat": 4,
 "nbformat_minor": 5
}
