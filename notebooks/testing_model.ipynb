{
 "cells": [
  {
   "cell_type": "code",
   "execution_count": 1,
   "id": "cc1129aa",
   "metadata": {},
   "outputs": [
    {
     "ename": "ModuleNotFoundError",
     "evalue": "No module named 'team_ops'",
     "output_type": "error",
     "traceback": [
      "\u001b[31m---------------------------------------------------------------------------\u001b[39m",
      "\u001b[31mModuleNotFoundError\u001b[39m                       Traceback (most recent call last)",
      "\u001b[36mCell\u001b[39m\u001b[36m \u001b[39m\u001b[32mIn[1]\u001b[39m\u001b[32m, line 1\u001b[39m\n\u001b[32m----> \u001b[39m\u001b[32m1\u001b[39m \u001b[38;5;28;01mfrom\u001b[39;00m\u001b[38;5;250m \u001b[39m\u001b[34;01mteam_ops\u001b[39;00m\u001b[38;5;250m \u001b[39m\u001b[38;5;28;01mimport\u001b[39;00m Model\n",
      "\u001b[31mModuleNotFoundError\u001b[39m: No module named 'team_ops'"
     ]
    }
   ],
   "source": [
    "from team_ops import Model"
   ]
  },
  {
   "cell_type": "code",
   "execution_count": null,
   "id": "7507ccc6",
   "metadata": {},
   "outputs": [],
   "source": [
    "model = Model()"
   ]
  },
  {
   "cell_type": "code",
   "execution_count": null,
   "id": "cd7bb4ec",
   "metadata": {},
   "outputs": [],
   "source": [
    "model._data[\"text\"].values[0]"
   ]
  },
  {
   "cell_type": "code",
   "execution_count": null,
   "id": "b406eb62",
   "metadata": {},
   "outputs": [],
   "source": [
    "model.make_data()"
   ]
  },
  {
   "cell_type": "code",
   "execution_count": null,
   "id": "991c2765",
   "metadata": {},
   "outputs": [],
   "source": [
    "model._dataset"
   ]
  },
  {
   "cell_type": "code",
   "execution_count": null,
   "id": "7952c6b2",
   "metadata": {},
   "outputs": [],
   "source": [
    "model.train()"
   ]
  }
 ],
 "metadata": {
  "kernelspec": {
   "display_name": "Python 3",
   "language": "python",
   "name": "python3"
  },
  "language_info": {
   "codemirror_mode": {
    "name": "ipython",
    "version": 3
   },
   "file_extension": ".py",
   "mimetype": "text/x-python",
   "name": "python",
   "nbconvert_exporter": "python",
   "pygments_lexer": "ipython3",
   "version": "3.11.5"
  }
 },
 "nbformat": 4,
 "nbformat_minor": 5
}
