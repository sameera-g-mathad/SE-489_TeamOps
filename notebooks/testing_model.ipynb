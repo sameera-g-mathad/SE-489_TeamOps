{
 "cells": [
  {
   "cell_type": "code",
   "execution_count": 1,
   "id": "cc1129aa",
   "metadata": {},
   "outputs": [
    {
     "name": "stderr",
     "output_type": "stream",
     "text": [
      "/Users/sameergururajmathad/se-489/team_ops/venv/lib/python3.11/site-packages/tqdm/auto.py:21: TqdmWarning: IProgress not found. Please update jupyter and ipywidgets. See https://ipywidgets.readthedocs.io/en/stable/user_install.html\n",
      "  from .autonotebook import tqdm as notebook_tqdm\n"
     ]
    }
   ],
   "source": [
    "from team_ops import Model"
   ]
  },
  {
   "cell_type": "code",
   "execution_count": 2,
   "id": "7507ccc6",
   "metadata": {},
   "outputs": [
    {
     "name": "stderr",
     "output_type": "stream",
     "text": [
      "2025-05-08 13:56:59,594 - INFO - Loading config file from : conf/config.yaml.\n",
      "2025-05-08 13:56:59,663 - INFO - Loading tokenizer: distilbert/distilbert-base-uncased\n",
      "2025-05-08 13:56:59,767 - INFO - DistilBertTokenizerFast loaded succesfully.\n",
      "2025-05-08 13:57:00,009 - INFO - Loading dataset from /Users/sameergururajmathad/se-489/team_ops/data/processed/processed_dataset.csv\n",
      "2025-05-08 13:57:00,351 - INFO - Data loaded succesfully.\n"
     ]
    }
   ],
   "source": [
    "model = Model()"
   ]
  },
  {
   "cell_type": "code",
   "execution_count": 3,
   "id": "538e2dd0",
   "metadata": {},
   "outputs": [],
   "source": [
    "model.tokenize()"
   ]
  },
  {
   "cell_type": "code",
   "execution_count": 4,
   "id": "cd7bb4ec",
   "metadata": {},
   "outputs": [
    {
     "data": {
      "text/plain": [
       "'  The previously derived vortex atomic form factor, which is directly related to a differential reaction cross section, is used to analyze the elastic scattering of twisted vortex photons with a hydrogenic atomic target. The vortex atomic form factor is expressed in a unified spherical basis and implemented in a MatLab code that numerically evaluates it using globally adaptive quadrature. The results of this code show the influence of variation in the photon wavelength, Rayleigh range, and scattering angle on differential reaction cross sections and the twist factor, which measures the impact of introducing orbital angular momentum. The recently suggested double mirror effect that accounts for a non-zero effect in the forward direction for twisted photon interactions is numerically confirmed. Finally, it is shown that differential reaction cross sections are greatly amplified when the Rayleigh range and photon wavelength are brought close to the scale of an atom. Experimental considerations and applications are briefly discussed, including quantum information, in which the scattering of twisted photons on atomic targets can be used to transfer information between light and matter. '"
      ]
     },
     "execution_count": 4,
     "metadata": {},
     "output_type": "execute_result"
    }
   ],
   "source": [
    "model._data[\"text\"].values[0]"
   ]
  },
  {
   "cell_type": "code",
   "execution_count": 5,
   "id": "b406eb62",
   "metadata": {},
   "outputs": [
    {
     "name": "stdout",
     "output_type": "stream",
     "text": [
      "(40000, 2) (10000, 2)\n"
     ]
    },
    {
     "name": "stderr",
     "output_type": "stream",
     "text": [
      "Map: 100%|██████████| 40000/40000 [00:04<00:00, 8784.45 examples/s]\n",
      "Map: 100%|██████████| 10000/10000 [00:01<00:00, 9604.74 examples/s]\n"
     ]
    }
   ],
   "source": [
    "model.make_data()"
   ]
  },
  {
   "cell_type": "code",
   "execution_count": 6,
   "id": "991c2765",
   "metadata": {},
   "outputs": [
    {
     "data": {
      "text/plain": [
       "DatasetDict({\n",
       "    train: Dataset({\n",
       "        features: ['text', 'label', '__index_level_0__', 'input_ids', 'attention_mask'],\n",
       "        num_rows: 40000\n",
       "    })\n",
       "    test: Dataset({\n",
       "        features: ['text', 'label', '__index_level_0__', 'input_ids', 'attention_mask'],\n",
       "        num_rows: 10000\n",
       "    })\n",
       "})"
      ]
     },
     "execution_count": 6,
     "metadata": {},
     "output_type": "execute_result"
    }
   ],
   "source": [
    "model._dataset"
   ]
  },
  {
   "cell_type": "code",
   "execution_count": null,
   "id": "7952c6b2",
   "metadata": {},
   "outputs": [],
   "source": []
  }
 ],
 "metadata": {
  "kernelspec": {
   "display_name": "venv",
   "language": "python",
   "name": "python3"
  },
  "language_info": {
   "codemirror_mode": {
    "name": "ipython",
    "version": 3
   },
   "file_extension": ".py",
   "mimetype": "text/x-python",
   "name": "python",
   "nbconvert_exporter": "python",
   "pygments_lexer": "ipython3",
   "version": "3.11.5"
  }
 },
 "nbformat": 4,
 "nbformat_minor": 5
}
